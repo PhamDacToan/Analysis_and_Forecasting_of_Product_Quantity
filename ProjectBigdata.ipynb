{
  "cells": [
    {
      "cell_type": "code",
      "execution_count": null,
      "metadata": {
        "colab": {
          "base_uri": "https://localhost:8080/"
        },
        "id": "zIV0G6D4i4op",
        "outputId": "18f6224e-79d6-4db4-edc6-280ffbeec840"
      },
      "outputs": [
        {
          "output_type": "stream",
          "name": "stdout",
          "text": [
            "Requirement already satisfied: pyspark in /usr/local/lib/python3.10/dist-packages (3.5.2)\n",
            "Requirement already satisfied: py4j==0.10.9.7 in /usr/local/lib/python3.10/dist-packages (from pyspark) (0.10.9.7)\n"
          ]
        }
      ],
      "source": [
        "!pip install pyspark"
      ]
    },
    {
      "cell_type": "code",
      "execution_count": null,
      "metadata": {
        "colab": {
          "base_uri": "https://localhost:8080/"
        },
        "id": "rI2Ulil7j1ol",
        "outputId": "d46a6b17-2e2d-4574-a589-3b8644ce7d93"
      },
      "outputs": [
        {
          "output_type": "stream",
          "name": "stdout",
          "text": [
            "Drive already mounted at /content/drive; to attempt to forcibly remount, call drive.mount(\"/content/drive\", force_remount=True).\n"
          ]
        }
      ],
      "source": [
        "from google.colab import drive\n",
        "drive.mount('/content/drive')"
      ]
    },
    {
      "cell_type": "code",
      "execution_count": null,
      "metadata": {
        "colab": {
          "base_uri": "https://localhost:8080/"
        },
        "id": "JBfQdjSyTK08",
        "outputId": "12ed4da9-0313-4d1b-d726-01506afec8af"
      },
      "outputs": [
        {
          "output_type": "stream",
          "name": "stdout",
          "text": [
            "Requirement already satisfied: xgboost in /usr/local/lib/python3.10/dist-packages (2.1.1)\n",
            "Requirement already satisfied: numpy in /usr/local/lib/python3.10/dist-packages (from xgboost) (1.26.4)\n",
            "Requirement already satisfied: nvidia-nccl-cu12 in /usr/local/lib/python3.10/dist-packages (from xgboost) (2.22.3)\n",
            "Requirement already satisfied: scipy in /usr/local/lib/python3.10/dist-packages (from xgboost) (1.13.1)\n",
            "Requirement already satisfied: imbalanced-learn in /usr/local/lib/python3.10/dist-packages (0.12.3)\n",
            "Requirement already satisfied: numpy>=1.17.3 in /usr/local/lib/python3.10/dist-packages (from imbalanced-learn) (1.26.4)\n",
            "Requirement already satisfied: scipy>=1.5.0 in /usr/local/lib/python3.10/dist-packages (from imbalanced-learn) (1.13.1)\n",
            "Requirement already satisfied: scikit-learn>=1.0.2 in /usr/local/lib/python3.10/dist-packages (from imbalanced-learn) (1.3.2)\n",
            "Requirement already satisfied: joblib>=1.1.1 in /usr/local/lib/python3.10/dist-packages (from imbalanced-learn) (1.4.2)\n",
            "Requirement already satisfied: threadpoolctl>=2.0.0 in /usr/local/lib/python3.10/dist-packages (from imbalanced-learn) (3.5.0)\n"
          ]
        }
      ],
      "source": [
        "#Import library\n",
        "from re import escape\n",
        "from pyspark.sql import SparkSession\n",
        "from pyspark.sql.functions import *\n",
        "from pyspark.sql.types import *\n",
        "import matplotlib.pyplot as plt\n",
        "from pyspark.sql.functions import count\n",
        "import seaborn as sns\n",
        "%matplotlib inline\n",
        "plt.style.use('fivethirtyeight')\n",
        "import warnings\n",
        "warnings.filterwarnings('ignore')\n",
        "from pyspark.sql.functions import col,isnan, when, count\n",
        "from pyspark.sql import SparkSession\n",
        "from pyspark.ml.feature import VectorAssembler\n",
        "from pyspark.sql import functions as FD\n",
        "import numpy as np\n",
        "from scipy.stats import f_oneway\n",
        "from pyspark.ml.classification import LogisticRegression\n",
        "from pyspark.ml.evaluation import MulticlassClassificationEvaluator\n",
        "from pyspark.ml.feature import VectorAssembler\n",
        "from pyspark.sql.functions import col"
      ]
    },
    {
      "cell_type": "code",
      "execution_count": null,
      "metadata": {
        "colab": {
          "base_uri": "https://localhost:8080/",
          "height": 383
        },
        "id": "9cz9QZo9jK8L",
        "outputId": "16340948-01c8-4260-a71d-0e634b2d5bda"
      },
      "outputs": [
        {
          "output_type": "execute_result",
          "data": {
            "text/plain": [
              "   credit_policy             purpose  int_rate  installment  log_annual_inc  \\\n",
              "0              1         credit_card     0.143       498.35        150000.0   \n",
              "1              1    home_improvement     0.110       870.29         55000.0   \n",
              "2              1         credit_card     0.088       785.32        165000.0   \n",
              "3              1         credit_card     0.170       285.03         40000.0   \n",
              "4              1  debt_consolidation     0.088       570.81         36000.0   \n",
              "5              1  debt_consolidation     0.170       893.73        115000.0   \n",
              "6              1         credit_card     0.143       281.09         95000.0   \n",
              "7              1  debt_consolidation     0.110       435.05         20160.0   \n",
              "8              1  debt_consolidation     0.088      1268.46        130000.0   \n",
              "9              1  debt_consolidation     0.161       365.73         30000.0   \n",
              "\n",
              "      dti  fico  days_with_cr_line  revol_bal  revol_util  inq_last_6mths  \\\n",
              "0   15.70   694              37865      19748       0.674               3   \n",
              "1   30.13   734              35947      11898       0.476               2   \n",
              "2   16.11   694              36373      20681       0.567               0   \n",
              "3   32.07   744              40269       8514       0.226               2   \n",
              "4   23.73   714              38565       7555       0.256               1   \n",
              "5   28.58   679              37803      60984       0.956               0   \n",
              "6   18.51   749              36008      14083       0.156               0   \n",
              "7  123.93   774              41365        353       0.007               1   \n",
              "8   20.09   704              37469      29208       0.507               0   \n",
              "9   37.28   734              35490      13869       0.431               0   \n",
              "\n",
              "   delinq_2yrs  pub_rec  not_fully_paid  \n",
              "0          5.0        0               0  \n",
              "1          1.0        0               0  \n",
              "2          0.0        0               0  \n",
              "3          0.0        0               0  \n",
              "4          0.0        0               1  \n",
              "5          0.0        0               1  \n",
              "6          0.0        0               1  \n",
              "7          0.0        0               1  \n",
              "8          0.0        0               1  \n",
              "9          0.0        0               1  "
            ],
            "text/html": [
              "\n",
              "  <div id=\"df-0701ba3c-887e-4842-b461-763053fe61a2\" class=\"colab-df-container\">\n",
              "    <div>\n",
              "<style scoped>\n",
              "    .dataframe tbody tr th:only-of-type {\n",
              "        vertical-align: middle;\n",
              "    }\n",
              "\n",
              "    .dataframe tbody tr th {\n",
              "        vertical-align: top;\n",
              "    }\n",
              "\n",
              "    .dataframe thead th {\n",
              "        text-align: right;\n",
              "    }\n",
              "</style>\n",
              "<table border=\"1\" class=\"dataframe\">\n",
              "  <thead>\n",
              "    <tr style=\"text-align: right;\">\n",
              "      <th></th>\n",
              "      <th>credit_policy</th>\n",
              "      <th>purpose</th>\n",
              "      <th>int_rate</th>\n",
              "      <th>installment</th>\n",
              "      <th>log_annual_inc</th>\n",
              "      <th>dti</th>\n",
              "      <th>fico</th>\n",
              "      <th>days_with_cr_line</th>\n",
              "      <th>revol_bal</th>\n",
              "      <th>revol_util</th>\n",
              "      <th>inq_last_6mths</th>\n",
              "      <th>delinq_2yrs</th>\n",
              "      <th>pub_rec</th>\n",
              "      <th>not_fully_paid</th>\n",
              "    </tr>\n",
              "  </thead>\n",
              "  <tbody>\n",
              "    <tr>\n",
              "      <th>0</th>\n",
              "      <td>1</td>\n",
              "      <td>credit_card</td>\n",
              "      <td>0.143</td>\n",
              "      <td>498.35</td>\n",
              "      <td>150000.0</td>\n",
              "      <td>15.70</td>\n",
              "      <td>694</td>\n",
              "      <td>37865</td>\n",
              "      <td>19748</td>\n",
              "      <td>0.674</td>\n",
              "      <td>3</td>\n",
              "      <td>5.0</td>\n",
              "      <td>0</td>\n",
              "      <td>0</td>\n",
              "    </tr>\n",
              "    <tr>\n",
              "      <th>1</th>\n",
              "      <td>1</td>\n",
              "      <td>home_improvement</td>\n",
              "      <td>0.110</td>\n",
              "      <td>870.29</td>\n",
              "      <td>55000.0</td>\n",
              "      <td>30.13</td>\n",
              "      <td>734</td>\n",
              "      <td>35947</td>\n",
              "      <td>11898</td>\n",
              "      <td>0.476</td>\n",
              "      <td>2</td>\n",
              "      <td>1.0</td>\n",
              "      <td>0</td>\n",
              "      <td>0</td>\n",
              "    </tr>\n",
              "    <tr>\n",
              "      <th>2</th>\n",
              "      <td>1</td>\n",
              "      <td>credit_card</td>\n",
              "      <td>0.088</td>\n",
              "      <td>785.32</td>\n",
              "      <td>165000.0</td>\n",
              "      <td>16.11</td>\n",
              "      <td>694</td>\n",
              "      <td>36373</td>\n",
              "      <td>20681</td>\n",
              "      <td>0.567</td>\n",
              "      <td>0</td>\n",
              "      <td>0.0</td>\n",
              "      <td>0</td>\n",
              "      <td>0</td>\n",
              "    </tr>\n",
              "    <tr>\n",
              "      <th>3</th>\n",
              "      <td>1</td>\n",
              "      <td>credit_card</td>\n",
              "      <td>0.170</td>\n",
              "      <td>285.03</td>\n",
              "      <td>40000.0</td>\n",
              "      <td>32.07</td>\n",
              "      <td>744</td>\n",
              "      <td>40269</td>\n",
              "      <td>8514</td>\n",
              "      <td>0.226</td>\n",
              "      <td>2</td>\n",
              "      <td>0.0</td>\n",
              "      <td>0</td>\n",
              "      <td>0</td>\n",
              "    </tr>\n",
              "    <tr>\n",
              "      <th>4</th>\n",
              "      <td>1</td>\n",
              "      <td>debt_consolidation</td>\n",
              "      <td>0.088</td>\n",
              "      <td>570.81</td>\n",
              "      <td>36000.0</td>\n",
              "      <td>23.73</td>\n",
              "      <td>714</td>\n",
              "      <td>38565</td>\n",
              "      <td>7555</td>\n",
              "      <td>0.256</td>\n",
              "      <td>1</td>\n",
              "      <td>0.0</td>\n",
              "      <td>0</td>\n",
              "      <td>1</td>\n",
              "    </tr>\n",
              "    <tr>\n",
              "      <th>5</th>\n",
              "      <td>1</td>\n",
              "      <td>debt_consolidation</td>\n",
              "      <td>0.170</td>\n",
              "      <td>893.73</td>\n",
              "      <td>115000.0</td>\n",
              "      <td>28.58</td>\n",
              "      <td>679</td>\n",
              "      <td>37803</td>\n",
              "      <td>60984</td>\n",
              "      <td>0.956</td>\n",
              "      <td>0</td>\n",
              "      <td>0.0</td>\n",
              "      <td>0</td>\n",
              "      <td>1</td>\n",
              "    </tr>\n",
              "    <tr>\n",
              "      <th>6</th>\n",
              "      <td>1</td>\n",
              "      <td>credit_card</td>\n",
              "      <td>0.143</td>\n",
              "      <td>281.09</td>\n",
              "      <td>95000.0</td>\n",
              "      <td>18.51</td>\n",
              "      <td>749</td>\n",
              "      <td>36008</td>\n",
              "      <td>14083</td>\n",
              "      <td>0.156</td>\n",
              "      <td>0</td>\n",
              "      <td>0.0</td>\n",
              "      <td>0</td>\n",
              "      <td>1</td>\n",
              "    </tr>\n",
              "    <tr>\n",
              "      <th>7</th>\n",
              "      <td>1</td>\n",
              "      <td>debt_consolidation</td>\n",
              "      <td>0.110</td>\n",
              "      <td>435.05</td>\n",
              "      <td>20160.0</td>\n",
              "      <td>123.93</td>\n",
              "      <td>774</td>\n",
              "      <td>41365</td>\n",
              "      <td>353</td>\n",
              "      <td>0.007</td>\n",
              "      <td>1</td>\n",
              "      <td>0.0</td>\n",
              "      <td>0</td>\n",
              "      <td>1</td>\n",
              "    </tr>\n",
              "    <tr>\n",
              "      <th>8</th>\n",
              "      <td>1</td>\n",
              "      <td>debt_consolidation</td>\n",
              "      <td>0.088</td>\n",
              "      <td>1268.46</td>\n",
              "      <td>130000.0</td>\n",
              "      <td>20.09</td>\n",
              "      <td>704</td>\n",
              "      <td>37469</td>\n",
              "      <td>29208</td>\n",
              "      <td>0.507</td>\n",
              "      <td>0</td>\n",
              "      <td>0.0</td>\n",
              "      <td>0</td>\n",
              "      <td>1</td>\n",
              "    </tr>\n",
              "    <tr>\n",
              "      <th>9</th>\n",
              "      <td>1</td>\n",
              "      <td>debt_consolidation</td>\n",
              "      <td>0.161</td>\n",
              "      <td>365.73</td>\n",
              "      <td>30000.0</td>\n",
              "      <td>37.28</td>\n",
              "      <td>734</td>\n",
              "      <td>35490</td>\n",
              "      <td>13869</td>\n",
              "      <td>0.431</td>\n",
              "      <td>0</td>\n",
              "      <td>0.0</td>\n",
              "      <td>0</td>\n",
              "      <td>1</td>\n",
              "    </tr>\n",
              "  </tbody>\n",
              "</table>\n",
              "</div>\n",
              "    <div class=\"colab-df-buttons\">\n",
              "\n",
              "  <div class=\"colab-df-container\">\n",
              "    <button class=\"colab-df-convert\" onclick=\"convertToInteractive('df-0701ba3c-887e-4842-b461-763053fe61a2')\"\n",
              "            title=\"Convert this dataframe to an interactive table.\"\n",
              "            style=\"display:none;\">\n",
              "\n",
              "  <svg xmlns=\"http://www.w3.org/2000/svg\" height=\"24px\" viewBox=\"0 -960 960 960\">\n",
              "    <path d=\"M120-120v-720h720v720H120Zm60-500h600v-160H180v160Zm220 220h160v-160H400v160Zm0 220h160v-160H400v160ZM180-400h160v-160H180v160Zm440 0h160v-160H620v160ZM180-180h160v-160H180v160Zm440 0h160v-160H620v160Z\"/>\n",
              "  </svg>\n",
              "    </button>\n",
              "\n",
              "  <style>\n",
              "    .colab-df-container {\n",
              "      display:flex;\n",
              "      gap: 12px;\n",
              "    }\n",
              "\n",
              "    .colab-df-convert {\n",
              "      background-color: #E8F0FE;\n",
              "      border: none;\n",
              "      border-radius: 50%;\n",
              "      cursor: pointer;\n",
              "      display: none;\n",
              "      fill: #1967D2;\n",
              "      height: 32px;\n",
              "      padding: 0 0 0 0;\n",
              "      width: 32px;\n",
              "    }\n",
              "\n",
              "    .colab-df-convert:hover {\n",
              "      background-color: #E2EBFA;\n",
              "      box-shadow: 0px 1px 2px rgba(60, 64, 67, 0.3), 0px 1px 3px 1px rgba(60, 64, 67, 0.15);\n",
              "      fill: #174EA6;\n",
              "    }\n",
              "\n",
              "    .colab-df-buttons div {\n",
              "      margin-bottom: 4px;\n",
              "    }\n",
              "\n",
              "    [theme=dark] .colab-df-convert {\n",
              "      background-color: #3B4455;\n",
              "      fill: #D2E3FC;\n",
              "    }\n",
              "\n",
              "    [theme=dark] .colab-df-convert:hover {\n",
              "      background-color: #434B5C;\n",
              "      box-shadow: 0px 1px 3px 1px rgba(0, 0, 0, 0.15);\n",
              "      filter: drop-shadow(0px 1px 2px rgba(0, 0, 0, 0.3));\n",
              "      fill: #FFFFFF;\n",
              "    }\n",
              "  </style>\n",
              "\n",
              "    <script>\n",
              "      const buttonEl =\n",
              "        document.querySelector('#df-0701ba3c-887e-4842-b461-763053fe61a2 button.colab-df-convert');\n",
              "      buttonEl.style.display =\n",
              "        google.colab.kernel.accessAllowed ? 'block' : 'none';\n",
              "\n",
              "      async function convertToInteractive(key) {\n",
              "        const element = document.querySelector('#df-0701ba3c-887e-4842-b461-763053fe61a2');\n",
              "        const dataTable =\n",
              "          await google.colab.kernel.invokeFunction('convertToInteractive',\n",
              "                                                    [key], {});\n",
              "        if (!dataTable) return;\n",
              "\n",
              "        const docLinkHtml = 'Like what you see? Visit the ' +\n",
              "          '<a target=\"_blank\" href=https://colab.research.google.com/notebooks/data_table.ipynb>data table notebook</a>'\n",
              "          + ' to learn more about interactive tables.';\n",
              "        element.innerHTML = '';\n",
              "        dataTable['output_type'] = 'display_data';\n",
              "        await google.colab.output.renderOutput(dataTable, element);\n",
              "        const docLink = document.createElement('div');\n",
              "        docLink.innerHTML = docLinkHtml;\n",
              "        element.appendChild(docLink);\n",
              "      }\n",
              "    </script>\n",
              "  </div>\n",
              "\n",
              "\n",
              "<div id=\"df-946a8307-65bb-4613-9be5-a49a5a26d65f\">\n",
              "  <button class=\"colab-df-quickchart\" onclick=\"quickchart('df-946a8307-65bb-4613-9be5-a49a5a26d65f')\"\n",
              "            title=\"Suggest charts\"\n",
              "            style=\"display:none;\">\n",
              "\n",
              "<svg xmlns=\"http://www.w3.org/2000/svg\" height=\"24px\"viewBox=\"0 0 24 24\"\n",
              "     width=\"24px\">\n",
              "    <g>\n",
              "        <path d=\"M19 3H5c-1.1 0-2 .9-2 2v14c0 1.1.9 2 2 2h14c1.1 0 2-.9 2-2V5c0-1.1-.9-2-2-2zM9 17H7v-7h2v7zm4 0h-2V7h2v10zm4 0h-2v-4h2v4z\"/>\n",
              "    </g>\n",
              "</svg>\n",
              "  </button>\n",
              "\n",
              "<style>\n",
              "  .colab-df-quickchart {\n",
              "      --bg-color: #E8F0FE;\n",
              "      --fill-color: #1967D2;\n",
              "      --hover-bg-color: #E2EBFA;\n",
              "      --hover-fill-color: #174EA6;\n",
              "      --disabled-fill-color: #AAA;\n",
              "      --disabled-bg-color: #DDD;\n",
              "  }\n",
              "\n",
              "  [theme=dark] .colab-df-quickchart {\n",
              "      --bg-color: #3B4455;\n",
              "      --fill-color: #D2E3FC;\n",
              "      --hover-bg-color: #434B5C;\n",
              "      --hover-fill-color: #FFFFFF;\n",
              "      --disabled-bg-color: #3B4455;\n",
              "      --disabled-fill-color: #666;\n",
              "  }\n",
              "\n",
              "  .colab-df-quickchart {\n",
              "    background-color: var(--bg-color);\n",
              "    border: none;\n",
              "    border-radius: 50%;\n",
              "    cursor: pointer;\n",
              "    display: none;\n",
              "    fill: var(--fill-color);\n",
              "    height: 32px;\n",
              "    padding: 0;\n",
              "    width: 32px;\n",
              "  }\n",
              "\n",
              "  .colab-df-quickchart:hover {\n",
              "    background-color: var(--hover-bg-color);\n",
              "    box-shadow: 0 1px 2px rgba(60, 64, 67, 0.3), 0 1px 3px 1px rgba(60, 64, 67, 0.15);\n",
              "    fill: var(--button-hover-fill-color);\n",
              "  }\n",
              "\n",
              "  .colab-df-quickchart-complete:disabled,\n",
              "  .colab-df-quickchart-complete:disabled:hover {\n",
              "    background-color: var(--disabled-bg-color);\n",
              "    fill: var(--disabled-fill-color);\n",
              "    box-shadow: none;\n",
              "  }\n",
              "\n",
              "  .colab-df-spinner {\n",
              "    border: 2px solid var(--fill-color);\n",
              "    border-color: transparent;\n",
              "    border-bottom-color: var(--fill-color);\n",
              "    animation:\n",
              "      spin 1s steps(1) infinite;\n",
              "  }\n",
              "\n",
              "  @keyframes spin {\n",
              "    0% {\n",
              "      border-color: transparent;\n",
              "      border-bottom-color: var(--fill-color);\n",
              "      border-left-color: var(--fill-color);\n",
              "    }\n",
              "    20% {\n",
              "      border-color: transparent;\n",
              "      border-left-color: var(--fill-color);\n",
              "      border-top-color: var(--fill-color);\n",
              "    }\n",
              "    30% {\n",
              "      border-color: transparent;\n",
              "      border-left-color: var(--fill-color);\n",
              "      border-top-color: var(--fill-color);\n",
              "      border-right-color: var(--fill-color);\n",
              "    }\n",
              "    40% {\n",
              "      border-color: transparent;\n",
              "      border-right-color: var(--fill-color);\n",
              "      border-top-color: var(--fill-color);\n",
              "    }\n",
              "    60% {\n",
              "      border-color: transparent;\n",
              "      border-right-color: var(--fill-color);\n",
              "    }\n",
              "    80% {\n",
              "      border-color: transparent;\n",
              "      border-right-color: var(--fill-color);\n",
              "      border-bottom-color: var(--fill-color);\n",
              "    }\n",
              "    90% {\n",
              "      border-color: transparent;\n",
              "      border-bottom-color: var(--fill-color);\n",
              "    }\n",
              "  }\n",
              "</style>\n",
              "\n",
              "  <script>\n",
              "    async function quickchart(key) {\n",
              "      const quickchartButtonEl =\n",
              "        document.querySelector('#' + key + ' button');\n",
              "      quickchartButtonEl.disabled = true;  // To prevent multiple clicks.\n",
              "      quickchartButtonEl.classList.add('colab-df-spinner');\n",
              "      try {\n",
              "        const charts = await google.colab.kernel.invokeFunction(\n",
              "            'suggestCharts', [key], {});\n",
              "      } catch (error) {\n",
              "        console.error('Error during call to suggestCharts:', error);\n",
              "      }\n",
              "      quickchartButtonEl.classList.remove('colab-df-spinner');\n",
              "      quickchartButtonEl.classList.add('colab-df-quickchart-complete');\n",
              "    }\n",
              "    (() => {\n",
              "      let quickchartButtonEl =\n",
              "        document.querySelector('#df-946a8307-65bb-4613-9be5-a49a5a26d65f button');\n",
              "      quickchartButtonEl.style.display =\n",
              "        google.colab.kernel.accessAllowed ? 'block' : 'none';\n",
              "    })();\n",
              "  </script>\n",
              "</div>\n",
              "\n",
              "    </div>\n",
              "  </div>\n"
            ],
            "application/vnd.google.colaboratory.intrinsic+json": {
              "type": "dataframe",
              "variable_name": "df",
              "summary": "{\n  \"name\": \"df\",\n  \"rows\": 37066,\n  \"fields\": [\n    {\n      \"column\": \"credit_policy\",\n      \"properties\": {\n        \"dtype\": \"number\",\n        \"std\": 0,\n        \"min\": 1,\n        \"max\": 1,\n        \"num_unique_values\": 1,\n        \"samples\": [\n          1\n        ],\n        \"semantic_type\": \"\",\n        \"description\": \"\"\n      }\n    },\n    {\n      \"column\": \"purpose\",\n      \"properties\": {\n        \"dtype\": \"category\",\n        \"num_unique_values\": 12,\n        \"samples\": [\n          \"vacation\"\n        ],\n        \"semantic_type\": \"\",\n        \"description\": \"\"\n      }\n    },\n    {\n      \"column\": \"int_rate\",\n      \"properties\": {\n        \"dtype\": \"number\",\n        \"std\": 0.04886893065901479,\n        \"min\": 0.053,\n        \"max\": 0.308,\n        \"num_unique_values\": 94,\n        \"samples\": [\n          0.225\n        ],\n        \"semantic_type\": \"\",\n        \"description\": \"\"\n      }\n    },\n    {\n      \"column\": \"installment\",\n      \"properties\": {\n        \"dtype\": \"number\",\n        \"std\": 286.6092816595874,\n        \"min\": 30.51,\n        \"max\": 1671.88,\n        \"num_unique_values\": 8848,\n        \"samples\": [\n          552.89\n        ],\n        \"semantic_type\": \"\",\n        \"description\": \"\"\n      }\n    },\n    {\n      \"column\": \"log_annual_inc\",\n      \"properties\": {\n        \"dtype\": \"number\",\n        \"std\": 91522.86361693576,\n        \"min\": 0.0,\n        \"max\": 9300000.0,\n        \"num_unique_values\": 4138,\n        \"samples\": [\n          11352.0\n        ],\n        \"semantic_type\": \"\",\n        \"description\": \"\"\n      }\n    },\n    {\n      \"column\": \"dti\",\n      \"properties\": {\n        \"dtype\": \"number\",\n        \"std\": 17.405359343638718,\n        \"min\": 0.0,\n        \"max\": 999.0,\n        \"num_unique_values\": 4896,\n        \"samples\": [\n          38.0\n        ],\n        \"semantic_type\": \"\",\n        \"description\": \"\"\n      }\n    },\n    {\n      \"column\": \"fico\",\n      \"properties\": {\n        \"dtype\": \"number\",\n        \"std\": 36,\n        \"min\": 664,\n        \"max\": 850,\n        \"num_unique_values\": 38,\n        \"samples\": [\n          829\n        ],\n        \"semantic_type\": \"\",\n        \"description\": \"\"\n      }\n    },\n    {\n      \"column\": \"days_with_cr_line\",\n      \"properties\": {\n        \"dtype\": \"number\",\n        \"std\": 2826,\n        \"min\": 22251,\n        \"max\": 42795,\n        \"num_unique_values\": 603,\n        \"samples\": [\n          38899\n        ],\n        \"semantic_type\": \"\",\n        \"description\": \"\"\n      }\n    },\n    {\n      \"column\": \"revol_bal\",\n      \"properties\": {\n        \"dtype\": \"number\",\n        \"std\": 15219,\n        \"min\": 0,\n        \"max\": 504828,\n        \"num_unique_values\": 8664,\n        \"samples\": [\n          14891\n        ],\n        \"semantic_type\": \"\",\n        \"description\": \"\"\n      }\n    },\n    {\n      \"column\": \"revol_util\",\n      \"properties\": {\n        \"dtype\": \"number\",\n        \"std\": 0.66448865190763,\n        \"min\": 0.0,\n        \"max\": 23.0,\n        \"num_unique_values\": 1023,\n        \"samples\": [\n          0.574\n        ],\n        \"semantic_type\": \"\",\n        \"description\": \"\"\n      }\n    },\n    {\n      \"column\": \"inq_last_6mths\",\n      \"properties\": {\n        \"dtype\": \"number\",\n        \"std\": 19638,\n        \"min\": 0,\n        \"max\": 652794,\n        \"num_unique_values\": 18212,\n        \"samples\": [\n          2746\n        ],\n        \"semantic_type\": \"\",\n        \"description\": \"\"\n      }\n    },\n    {\n      \"column\": \"delinq_2yrs\",\n      \"properties\": {\n        \"dtype\": \"number\",\n        \"std\": 0.43454804847119854,\n        \"min\": 0.0,\n        \"max\": 15.0,\n        \"num_unique_values\": 1033,\n        \"samples\": [\n          0.101\n        ],\n        \"semantic_type\": \"\",\n        \"description\": \"\"\n      }\n    },\n    {\n      \"column\": \"pub_rec\",\n      \"properties\": {\n        \"dtype\": \"number\",\n        \"std\": 0,\n        \"min\": 0,\n        \"max\": 5,\n        \"num_unique_values\": 6,\n        \"samples\": [\n          0\n        ],\n        \"semantic_type\": \"\",\n        \"description\": \"\"\n      }\n    },\n    {\n      \"column\": \"not_fully_paid\",\n      \"properties\": {\n        \"dtype\": \"number\",\n        \"std\": 0,\n        \"min\": 0,\n        \"max\": 1,\n        \"num_unique_values\": 2,\n        \"samples\": [\n          1\n        ],\n        \"semantic_type\": \"\",\n        \"description\": \"\"\n      }\n    }\n  ]\n}"
            }
          },
          "metadata": {},
          "execution_count": 42
        }
      ],
      "source": [
        "#Mount Gdrive to load data\n",
        "df=pd.DataFrame(pd.read_csv(\"/content/drive/MyDrive/Colab Notebooks/Big data/ProjectBigdata/loan_data.csv\"))\n",
        "df.head(10)"
      ]
    },
    {
      "cell_type": "markdown",
      "metadata": {
        "id": "cpiMhJ21koaE"
      },
      "source": [
        "#Phân tích dữ liệu cơ bản"
      ]
    },
    {
      "cell_type": "code",
      "execution_count": null,
      "metadata": {
        "id": "VE6YpHJzkpaa"
      },
      "outputs": [],
      "source": [
        "# Initialize SparkSession\n",
        "spark = SparkSession \\\n",
        "        .builder \\\n",
        "        .appName(\"Python Spark create RDD\") \\\n",
        "        .config(\"spark.some.config.option\", \"some-value\") \\\n",
        "        .getOrCreate()"
      ]
    },
    {
      "cell_type": "code",
      "execution_count": null,
      "metadata": {
        "colab": {
          "base_uri": "https://localhost:8080/"
        },
        "id": "SHgszeqVkxa3",
        "outputId": "04450b8e-3bb6-45db-96a8-c22bc42390a9"
      },
      "outputs": [
        {
          "output_type": "stream",
          "name": "stdout",
          "text": [
            "+-------------+------------------+--------+-----------+--------------+-----+----+-----------------+---------+----------+--------------+-----------+-------+--------------+\n",
            "|credit_policy|           purpose|int_rate|installment|log_annual_inc|  dti|fico|days_with_cr_line|revol_bal|revol_util|inq_last_6mths|delinq_2yrs|pub_rec|not_fully_paid|\n",
            "+-------------+------------------+--------+-----------+--------------+-----+----+-----------------+---------+----------+--------------+-----------+-------+--------------+\n",
            "|            1|       credit_card|   0.143|     498.35|        150000| 15.7| 694|            37865|    19748|     0.674|             3|          5|      0|             0|\n",
            "|            1|  home_improvement|    0.11|     870.29|         55000|30.13| 734|            35947|    11898|     0.476|             2|          1|      0|             0|\n",
            "|            1|       credit_card|   0.088|     785.32|        165000|16.11| 694|            36373|    20681|     0.567|             0|          0|      0|             0|\n",
            "|            1|       credit_card|    0.17|     285.03|         40000|32.07| 744|            40269|     8514|     0.226|             2|          0|      0|             0|\n",
            "|            1|debt_consolidation|   0.088|     570.81|         36000|23.73| 714|            38565|     7555|     0.256|             1|          0|      0|             1|\n",
            "+-------------+------------------+--------+-----------+--------------+-----+----+-----------------+---------+----------+--------------+-----------+-------+--------------+\n",
            "only showing top 5 rows\n",
            "\n"
          ]
        }
      ],
      "source": [
        "# Read the CSV file\n",
        "df = spark.read.csv(\"/content/drive/MyDrive/Colab Notebooks/Big data/ProjectBigdata/loan_data.csv\", header=True, escape=\"\\\"\")\n",
        "# Show the first 5 rows\n",
        "df.show(5)"
      ]
    },
    {
      "cell_type": "code",
      "execution_count": null,
      "metadata": {
        "colab": {
          "base_uri": "https://localhost:8080/"
        },
        "id": "dEEy8TYIEFDM",
        "outputId": "9cc77527-b480-4696-a642-7237f8ede46f"
      },
      "outputs": [
        {
          "output_type": "stream",
          "name": "stdout",
          "text": [
            "root\n",
            " |-- credit_policy: string (nullable = true)\n",
            " |-- purpose: string (nullable = true)\n",
            " |-- int_rate: string (nullable = true)\n",
            " |-- installment: string (nullable = true)\n",
            " |-- log_annual_inc: string (nullable = true)\n",
            " |-- dti: string (nullable = true)\n",
            " |-- fico: string (nullable = true)\n",
            " |-- days_with_cr_line: string (nullable = true)\n",
            " |-- revol_bal: string (nullable = true)\n",
            " |-- revol_util: string (nullable = true)\n",
            " |-- inq_last_6mths: string (nullable = true)\n",
            " |-- delinq_2yrs: string (nullable = true)\n",
            " |-- pub_rec: string (nullable = true)\n",
            " |-- not_fully_paid: string (nullable = true)\n",
            "\n"
          ]
        }
      ],
      "source": [
        "df.printSchema()"
      ]
    },
    {
      "cell_type": "code",
      "execution_count": null,
      "metadata": {
        "colab": {
          "base_uri": "https://localhost:8080/"
        },
        "id": "ZzR2YaJgEQRe",
        "outputId": "982a6e04-e7bf-4ae7-e300-d11483f026af"
      },
      "outputs": [
        {
          "output_type": "execute_result",
          "data": {
            "text/plain": [
              "[('credit_policy', 'string'),\n",
              " ('purpose', 'string'),\n",
              " ('int_rate', 'string'),\n",
              " ('installment', 'string'),\n",
              " ('log_annual_inc', 'string'),\n",
              " ('dti', 'string'),\n",
              " ('fico', 'string'),\n",
              " ('days_with_cr_line', 'string'),\n",
              " ('revol_bal', 'string'),\n",
              " ('revol_util', 'string'),\n",
              " ('inq_last_6mths', 'string'),\n",
              " ('delinq_2yrs', 'string'),\n",
              " ('pub_rec', 'string'),\n",
              " ('not_fully_paid', 'string')]"
            ]
          },
          "metadata": {},
          "execution_count": 46
        }
      ],
      "source": [
        "df.dtypes"
      ]
    },
    {
      "cell_type": "markdown",
      "metadata": {
        "id": "wyXAzQ3uUVmp"
      },
      "source": [
        "#EDA"
      ]
    },
    {
      "cell_type": "code",
      "execution_count": null,
      "metadata": {
        "colab": {
          "base_uri": "https://localhost:8080/"
        },
        "id": "p1WEwRbLlFoB",
        "outputId": "412c129a-c204-48ab-e1e2-e8834b50d3d0"
      },
      "outputs": [
        {
          "output_type": "execute_result",
          "data": {
            "text/plain": [
              "37066"
            ]
          },
          "metadata": {},
          "execution_count": 47
        }
      ],
      "source": [
        "#Điếm xem có bao nhiêu dòng dữ liệu\n",
        "df.count()"
      ]
    },
    {
      "cell_type": "code",
      "execution_count": null,
      "metadata": {
        "colab": {
          "base_uri": "https://localhost:8080/"
        },
        "id": "YrstQr9wUJMT",
        "outputId": "c26caa41-81db-437f-e462-6f3176b5b940"
      },
      "outputs": [
        {
          "output_type": "stream",
          "name": "stdout",
          "text": [
            "+-------------+-------+--------+-----------+--------------+---+----+-----------------+---------+----------+--------------+-----------+-------+--------------+\n",
            "|credit_policy|purpose|int_rate|installment|log_annual_inc|dti|fico|days_with_cr_line|revol_bal|revol_util|inq_last_6mths|delinq_2yrs|pub_rec|not_fully_paid|\n",
            "+-------------+-------+--------+-----------+--------------+---+----+-----------------+---------+----------+--------------+-----------+-------+--------------+\n",
            "|            0|      0|       0|          0|             0|100|   0|                0|        0|        12|             0|         34|      0|             0|\n",
            "+-------------+-------+--------+-----------+--------------+---+----+-----------------+---------+----------+--------------+-----------+-------+--------------+\n",
            "\n"
          ]
        }
      ],
      "source": [
        "# Count the number of null or NaN values in each column\n",
        "df.select([count(when(isnan(c) | col(c).isNull(), c)).alias(c) for c in df.columns]).show()"
      ]
    },
    {
      "cell_type": "code",
      "execution_count": null,
      "metadata": {
        "colab": {
          "base_uri": "https://localhost:8080/"
        },
        "id": "gRb4Sf7UgVfI",
        "outputId": "05509670-6bcd-4a9a-d521-bc219d8be762"
      },
      "outputs": [
        {
          "output_type": "stream",
          "name": "stdout",
          "text": [
            "+-------------+------------------+--------+-----------+--------------+-----+----+-----------------+---------+----------+--------------+-----------+-------+--------------+\n",
            "|credit_policy|           purpose|int_rate|installment|log_annual_inc|  dti|fico|days_with_cr_line|revol_bal|revol_util|inq_last_6mths|delinq_2yrs|pub_rec|not_fully_paid|\n",
            "+-------------+------------------+--------+-----------+--------------+-----+----+-----------------+---------+----------+--------------+-----------+-------+--------------+\n",
            "|            1|       credit_card|   0.143|     498.35|        150000| 15.7| 694|            37865|    19748|     0.674|             3|          5|      0|             0|\n",
            "|            1|  home_improvement|    0.11|     870.29|         55000|30.13| 734|            35947|    11898|     0.476|             2|          1|      0|             0|\n",
            "|            1|       credit_card|   0.088|     785.32|        165000|16.11| 694|            36373|    20681|     0.567|             0|          0|      0|             0|\n",
            "|            1|       credit_card|    0.17|     285.03|         40000|32.07| 744|            40269|     8514|     0.226|             2|          0|      0|             0|\n",
            "|            1|debt_consolidation|   0.088|     570.81|         36000|23.73| 714|            38565|     7555|     0.256|             1|          0|      0|             1|\n",
            "+-------------+------------------+--------+-----------+--------------+-----+----+-----------------+---------+----------+--------------+-----------+-------+--------------+\n",
            "only showing top 5 rows\n",
            "\n"
          ]
        }
      ],
      "source": [
        "#Drop all Nan rows\n",
        "df=df.dropna()\n",
        "df.show(5)"
      ]
    },
    {
      "cell_type": "code",
      "execution_count": null,
      "metadata": {
        "colab": {
          "base_uri": "https://localhost:8080/",
          "height": 616
        },
        "id": "GhB-CkhGhCbK",
        "outputId": "0567a869-c083-4fb2-a225-11a388fdf1ae"
      },
      "outputs": [
        {
          "output_type": "stream",
          "name": "stdout",
          "text": [
            "+--------------+-----+\n",
            "|not_fully_paid|count|\n",
            "+--------------+-----+\n",
            "|             0|10145|\n",
            "|             1|26775|\n",
            "+--------------+-----+\n",
            "\n"
          ]
        },
        {
          "output_type": "execute_result",
          "data": {
            "text/plain": [
              "<Axes: xlabel='not_fully_paid'>"
            ]
          },
          "metadata": {},
          "execution_count": 50
        },
        {
          "output_type": "display_data",
          "data": {
            "text/plain": [
              "<Figure size 640x480 with 1 Axes>"
            ],
            "image/png": "[encoded data removed]"
          },
          "metadata": {}
        }
      ],
      "source": [
        "#Thống kê khoản vay có hoàn trả hay không\n",
        "#0:Khoản vay không trả đầy đủ\n",
        "#1:Khoản vay được trả đầy đủ\n",
        "# Group by 'not_fully_paid' and count occurrences\n",
        "result_df = df.groupBy('not_fully_paid').count()\n",
        "\n",
        "# Show the results\n",
        "result_df.show()\n",
        "\n",
        "# For plotting, you'll need to convert to Pandas DataFrame\n",
        "result_pd = result_df.toPandas()\n",
        "result_pd.plot(x='not_fully_paid', y='count', kind='bar')"
      ]
    },
    {
      "cell_type": "code",
      "execution_count": null,
      "metadata": {
        "colab": {
          "base_uri": "https://localhost:8080/"
        },
        "id": "KdTlsfGIFDFO",
        "outputId": "1c0dd161-a9f0-432b-823f-6ae07c2db7eb"
      },
      "outputs": [
        {
          "output_type": "execute_result",
          "data": {
            "text/plain": [
              "0.725216684723727"
            ]
          },
          "metadata": {},
          "execution_count": 51
        }
      ],
      "source": [
        "from pyspark.sql import functions as F\n",
        "# get mean value of column\n",
        "mean = df.select(F.mean(df['not_fully_paid'])).collect()[0][0]\n",
        "mean"
      ]
    },
    {
      "cell_type": "markdown",
      "metadata": {
        "id": "vQbOTO-viVP5"
      },
      "source": [
        "Imbalanced data ==> Trước khi train"
      ]
    },
    {
      "cell_type": "markdown",
      "metadata": {
        "id": "TBfgrAsxiES1"
      },
      "source": [
        "#Pre-procesing data"
      ]
    },
    {
      "cell_type": "code",
      "execution_count": null,
      "metadata": {
        "colab": {
          "base_uri": "https://localhost:8080/"
        },
        "id": "CFXrtkE6j5jr",
        "outputId": "7751faa6-fa1b-4f72-c65e-d56339249d28"
      },
      "outputs": [
        {
          "output_type": "stream",
          "name": "stdout",
          "text": [
            "['credit_policy', 'purpose', 'int_rate', 'installment', 'log_annual_inc', 'dti', 'fico', 'days_with_cr_line', 'revol_bal', 'revol_util', 'inq_last_6mths', 'delinq_2yrs', 'pub_rec', 'not_fully_paid']\n"
          ]
        }
      ],
      "source": [
        "#Tìm các field là Object/String\n",
        "object_cols = [i for i in df.columns if dict(df.dtypes)[i] == 'string']\n",
        "print(object_cols)"
      ]
    },
    {
      "cell_type": "code",
      "execution_count": null,
      "metadata": {
        "colab": {
          "base_uri": "https://localhost:8080/"
        },
        "id": "UCy03VgKkgBZ",
        "outputId": "a460453c-80a5-4461-ec2d-50f330986be5"
      },
      "outputs": [
        {
          "output_type": "stream",
          "name": "stdout",
          "text": [
            "+------------------+-----+\n",
            "|           purpose|count|\n",
            "+------------------+-----+\n",
            "|             other| 2496|\n",
            "|    small_business|  269|\n",
            "|debt_consolidation|19516|\n",
            "|       credit_card| 9087|\n",
            "|            moving|  234|\n",
            "|          vacation|  313|\n",
            "|  renewable_energy|   15|\n",
            "|             house|  406|\n",
            "|               car|  384|\n",
            "|    major_purchase|  899|\n",
            "|           medical|  465|\n",
            "|  home_improvement| 2836|\n",
            "+------------------+-----+\n",
            "\n"
          ]
        }
      ],
      "source": [
        "# Group by 'not_fully_paid' and count occurrences\n",
        "result_df = df.groupBy('purpose').agg(count('*').alias('count'))\n",
        "\n",
        "# Show the results\n",
        "result_df.show()"
      ]
    },
    {
      "cell_type": "code",
      "execution_count": null,
      "metadata": {
        "id": "2C_f1vVimc_t"
      },
      "outputs": [],
      "source": [
        "from pyspark.sql.functions import udf\n",
        "from pyspark.sql.types import IntegerType\n",
        "\n",
        "def process_purpose(x):\n",
        "  if x=='debt_consolidation':\n",
        "    return 1\n",
        "  else:\n",
        "    return 0\n",
        "\n",
        "# Convert Python function to PySpark UDF\n",
        "process_purpose_udf = udf(process_purpose, IntegerType())\n",
        "# Apply the UDF to the 'purpose' column\n",
        "df = df.withColumn('purpose_int', process_purpose_udf(df['purpose']))"
      ]
    },
    {
      "cell_type": "code",
      "execution_count": null,
      "metadata": {
        "colab": {
          "base_uri": "https://localhost:8080/"
        },
        "id": "7vHzvT3D36Mk",
        "outputId": "368e8149-2fae-4ef0-e7b3-268bde5ba61c"
      },
      "outputs": [
        {
          "output_type": "stream",
          "name": "stdout",
          "text": [
            "+-----------+-----+\n",
            "|purpose_int|count|\n",
            "+-----------+-----+\n",
            "|          1|19516|\n",
            "|          0|17404|\n",
            "+-----------+-----+\n",
            "\n"
          ]
        }
      ],
      "source": [
        "# Group by 'not_fully_paid' and count occurrences\n",
        "result_df = df.groupBy('purpose_int').agg(count('*').alias('count'))\n",
        "\n",
        "# Show the results\n",
        "result_df.show()"
      ]
    },
    {
      "cell_type": "code",
      "execution_count": null,
      "metadata": {
        "colab": {
          "base_uri": "https://localhost:8080/"
        },
        "id": "No_3xzhB4hUP",
        "outputId": "685dc8d0-3a36-4d7b-9bfd-7e82d41e9555"
      },
      "outputs": [
        {
          "output_type": "stream",
          "name": "stdout",
          "text": [
            "+--------+-----------+--------------+-----+----+-----------------+---------+----------+--------------+-----------+-------+--------------+-----------+\n",
            "|int_rate|installment|log_annual_inc|  dti|fico|days_with_cr_line|revol_bal|revol_util|inq_last_6mths|delinq_2yrs|pub_rec|not_fully_paid|purpose_int|\n",
            "+--------+-----------+--------------+-----+----+-----------------+---------+----------+--------------+-----------+-------+--------------+-----------+\n",
            "|   0.143|     498.35|        150000| 15.7| 694|            37865|    19748|     0.674|             3|          5|      0|             0|          0|\n",
            "|    0.11|     870.29|         55000|30.13| 734|            35947|    11898|     0.476|             2|          1|      0|             0|          0|\n",
            "|   0.088|     785.32|        165000|16.11| 694|            36373|    20681|     0.567|             0|          0|      0|             0|          0|\n",
            "|    0.17|     285.03|         40000|32.07| 744|            40269|     8514|     0.226|             2|          0|      0|             0|          0|\n",
            "|   0.088|     570.81|         36000|23.73| 714|            38565|     7555|     0.256|             1|          0|      0|             1|          1|\n",
            "+--------+-----------+--------------+-----+----+-----------------+---------+----------+--------------+-----------+-------+--------------+-----------+\n",
            "only showing top 5 rows\n",
            "\n"
          ]
        }
      ],
      "source": [
        "#Drop purpose and view lại\n",
        "df=df.drop('purpose','credit_policy')\n",
        "df.show(5)"
      ]
    },
    {
      "cell_type": "code",
      "execution_count": null,
      "metadata": {
        "colab": {
          "base_uri": "https://localhost:8080/"
        },
        "id": "vc79mw6HjzDu",
        "outputId": "df0dbe51-65d4-43ab-8645-afe190671748"
      },
      "outputs": [
        {
          "output_type": "stream",
          "name": "stdout",
          "text": [
            "Cột credit_policy không tồn tại trong DataFrame.\n",
            "Cột purpose không tồn tại trong DataFrame.\n",
            "Đã chuyển đổi cột int_rate sang kiểu DoubleType.\n",
            "Đã chuyển đổi cột installment sang kiểu DoubleType.\n",
            "Đã chuyển đổi cột log_annual_inc sang kiểu DoubleType.\n",
            "Đã chuyển đổi cột dti sang kiểu DoubleType.\n",
            "Đã chuyển đổi cột fico sang kiểu DoubleType.\n",
            "Đã chuyển đổi cột days_with_cr_line sang kiểu DoubleType.\n",
            "Đã chuyển đổi cột revol_bal sang kiểu DoubleType.\n",
            "Đã chuyển đổi cột revol_util sang kiểu DoubleType.\n",
            "Đã chuyển đổi cột inq_last_6mths sang kiểu DoubleType.\n",
            "Đã chuyển đổi cột delinq_2yrs sang kiểu DoubleType.\n",
            "Đã chuyển đổi cột pub_rec sang kiểu DoubleType.\n",
            "Đã chuyển đổi cột not_fully_paid sang kiểu DoubleType.\n",
            "+--------+-----------+--------------+------+-----+-----------------+---------+----------+--------------+-----------+-------+--------------+-----------+\n",
            "|int_rate|installment|log_annual_inc|   dti| fico|days_with_cr_line|revol_bal|revol_util|inq_last_6mths|delinq_2yrs|pub_rec|not_fully_paid|purpose_int|\n",
            "+--------+-----------+--------------+------+-----+-----------------+---------+----------+--------------+-----------+-------+--------------+-----------+\n",
            "|   0.143|     498.35|      150000.0|  15.7|694.0|          37865.0|  19748.0|     0.674|           3.0|        5.0|    0.0|           0.0|          0|\n",
            "|    0.11|     870.29|       55000.0| 30.13|734.0|          35947.0|  11898.0|     0.476|           2.0|        1.0|    0.0|           0.0|          0|\n",
            "|   0.088|     785.32|      165000.0| 16.11|694.0|          36373.0|  20681.0|     0.567|           0.0|        0.0|    0.0|           0.0|          0|\n",
            "|    0.17|     285.03|       40000.0| 32.07|744.0|          40269.0|   8514.0|     0.226|           2.0|        0.0|    0.0|           0.0|          0|\n",
            "|   0.088|     570.81|       36000.0| 23.73|714.0|          38565.0|   7555.0|     0.256|           1.0|        0.0|    0.0|           1.0|          1|\n",
            "|    0.17|     893.73|      115000.0| 28.58|679.0|          37803.0|  60984.0|     0.956|           0.0|        0.0|    0.0|           1.0|          1|\n",
            "|   0.143|     281.09|       95000.0| 18.51|749.0|          36008.0|  14083.0|     0.156|           0.0|        0.0|    0.0|           1.0|          0|\n",
            "|    0.11|     435.05|       20160.0|123.93|774.0|          41365.0|    353.0|     0.007|           1.0|        0.0|    0.0|           1.0|          1|\n",
            "|   0.088|    1268.46|      130000.0| 20.09|704.0|          37469.0|  29208.0|     0.507|           0.0|        0.0|    0.0|           1.0|          1|\n",
            "|   0.161|     365.73|       30000.0| 37.28|734.0|          35490.0|  13869.0|     0.431|           0.0|        0.0|    0.0|           1.0|          1|\n",
            "|   0.076|     249.08|       44653.0| 22.16|719.0|          36892.0|   8075.0|     0.229|           0.0|        0.0|    0.0|           1.0|          1|\n",
            "|   0.206|     341.72|       52000.0| 38.41|709.0|          38108.0|  28147.0|     0.821|           2.0|        0.0|    0.0|           1.0|          0|\n",
            "|   0.143|     495.42|       61000.0| 35.75|779.0|          40210.0|   3812.0|     0.135|           0.0|        0.0|    0.0|           1.0|          1|\n",
            "|   0.152|     837.07|      128507.0| 26.43|704.0|          37438.0|  40022.0|     0.518|           0.0|        0.0|    1.0|           1.0|          0|\n",
            "|   0.088|     158.56|       41700.0|  32.0|799.0|          32813.0|   2742.0|     0.021|           1.0|        0.0|    0.0|           1.0|          0|\n",
            "|   0.131|      340.7|       55653.0| 36.96|709.0|          33848.0|  19242.0|     0.713|           0.0|        0.0|    0.0|           1.0|          1|\n",
            "|    0.17|     364.32|       30000.0| 32.72|679.0|          34851.0|   7625.0|     0.248|           1.0|        0.0|    1.0|           1.0|          1|\n",
            "|   0.124|     897.89|      120000.0|  16.2|704.0|          39448.0|  30323.0|     0.857|           0.0|        0.0|    0.0|           1.0|          1|\n",
            "|   0.088|     325.05|       83000.0| 37.43|709.0|          39203.0|  19612.0|     0.784|           0.0|        0.0|    0.0|           1.0|          1|\n",
            "|   0.103|     778.14|      178500.0|  7.74|689.0|          39203.0|  25416.0|     0.355|           0.0|        0.0|    0.0|           1.0|          1|\n",
            "+--------+-----------+--------------+------+-----+-----------------+---------+----------+--------------+-----------+-------+--------------+-----------+\n",
            "only showing top 20 rows\n",
            "\n"
          ]
        }
      ],
      "source": [
        "# Chuyển đổi các cột số từ kiểu chuỗi sang kiểu số\n",
        "for col in object_cols:\n",
        "    if col not in df.columns: # Check if column exists\n",
        "        print(f\"Cột {col} không tồn tại trong DataFrame.\")\n",
        "        continue\n",
        "    try:\n",
        "        # Cố gắng chuyển đổi sang kiểu Double trước\n",
        "        df = df.withColumn(col, df[col].cast('double')) #Use df instead of spark_df\n",
        "        print(f\"Đã chuyển đổi cột {col} sang kiểu DoubleType.\")\n",
        "    except:\n",
        "        # Nếu không được, chuyển đổi sang kiểu Integer\n",
        "        df = df.withColumn(col, df[col].cast('int')) #Use df instead of spark_df\n",
        "        print(f\"Đã chuyển đổi cột {col} sang kiểu IntegerType.\")\n",
        "\n",
        "# Hiển thị DataFrame kết quả sau khi chuyển đổi\n",
        "df.show() #Use df instead of spark_df"
      ]
    },
    {
      "cell_type": "code",
      "execution_count": null,
      "metadata": {
        "colab": {
          "base_uri": "https://localhost:8080/"
        },
        "id": "BrFo8s1uwmDf",
        "outputId": "cd2b5bfa-350c-4d5d-faa7-a3aba42e1c12"
      },
      "outputs": [
        {
          "output_type": "execute_result",
          "data": {
            "text/plain": [
              "[('int_rate', 'double'),\n",
              " ('installment', 'double'),\n",
              " ('log_annual_inc', 'double'),\n",
              " ('dti', 'double'),\n",
              " ('fico', 'double'),\n",
              " ('days_with_cr_line', 'double'),\n",
              " ('revol_bal', 'double'),\n",
              " ('revol_util', 'double'),\n",
              " ('inq_last_6mths', 'double'),\n",
              " ('delinq_2yrs', 'double'),\n",
              " ('pub_rec', 'double'),\n",
              " ('not_fully_paid', 'double'),\n",
              " ('purpose_int', 'int')]"
            ]
          },
          "metadata": {},
          "execution_count": 58
        }
      ],
      "source": [
        "df.dtypes"
      ]
    },
    {
      "cell_type": "code",
      "execution_count": null,
      "metadata": {
        "colab": {
          "base_uri": "https://localhost:8080/",
          "height": 457
        },
        "id": "7CZnbtnpJrm5",
        "outputId": "25e86bdb-bafa-4426-e6a9-15af3b3e9772"
      },
      "outputs": [
        {
          "output_type": "execute_result",
          "data": {
            "text/plain": [
              "<pandas.io.formats.style.Styler at 0x7cded45e8b50>"
            ],
            "text/html": [
              "<style type=\"text/css\">\n",
              "#T_7643f_row0_col0, #T_7643f_row1_col1, #T_7643f_row2_col2, #T_7643f_row3_col3, #T_7643f_row4_col4, #T_7643f_row5_col5, #T_7643f_row6_col6, #T_7643f_row7_col7, #T_7643f_row8_col8, #T_7643f_row9_col9, #T_7643f_row10_col10, #T_7643f_row11_col11, #T_7643f_row12_col12 {\n",
              "  background-color: #b40426;\n",
              "  color: #f1f1f1;\n",
              "}\n",
              "#T_7643f_row0_col1, #T_7643f_row3_col10 {\n",
              "  background-color: #6a8bef;\n",
              "  color: #f1f1f1;\n",
              "}\n",
              "#T_7643f_row0_col2 {\n",
              "  background-color: #4c66d6;\n",
              "  color: #f1f1f1;\n",
              "}\n",
              "#T_7643f_row0_col3, #T_7643f_row5_col6, #T_7643f_row10_col6, #T_7643f_row10_col9 {\n",
              "  background-color: #80a3fa;\n",
              "  color: #f1f1f1;\n",
              "}\n",
              "#T_7643f_row0_col4, #T_7643f_row2_col3, #T_7643f_row3_col2, #T_7643f_row4_col0, #T_7643f_row4_col7, #T_7643f_row4_col9, #T_7643f_row4_col10, #T_7643f_row4_col12, #T_7643f_row5_col1, #T_7643f_row5_col2, #T_7643f_row6_col8, #T_7643f_row6_col11, #T_7643f_row8_col5, #T_7643f_row11_col6, #T_7643f_row11_col12 {\n",
              "  background-color: #3b4cc0;\n",
              "  color: #f1f1f1;\n",
              "}\n",
              "#T_7643f_row0_col5 {\n",
              "  background-color: #86a9fc;\n",
              "  color: #f1f1f1;\n",
              "}\n",
              "#T_7643f_row0_col6 {\n",
              "  background-color: #97b8ff;\n",
              "  color: #000000;\n",
              "}\n",
              "#T_7643f_row0_col7, #T_7643f_row1_col9 {\n",
              "  background-color: #94b6ff;\n",
              "  color: #000000;\n",
              "}\n",
              "#T_7643f_row0_col8 {\n",
              "  background-color: #6f92f3;\n",
              "  color: #f1f1f1;\n",
              "}\n",
              "#T_7643f_row0_col9 {\n",
              "  background-color: #b6cefa;\n",
              "  color: #000000;\n",
              "}\n",
              "#T_7643f_row0_col10, #T_7643f_row2_col7, #T_7643f_row7_col11 {\n",
              "  background-color: #7a9df8;\n",
              "  color: #f1f1f1;\n",
              "}\n",
              "#T_7643f_row0_col11, #T_7643f_row2_col11, #T_7643f_row3_col8, #T_7643f_row5_col11, #T_7643f_row12_col1 {\n",
              "  background-color: #88abfd;\n",
              "  color: #000000;\n",
              "}\n",
              "#T_7643f_row0_col12, #T_7643f_row6_col9, #T_7643f_row10_col8 {\n",
              "  background-color: #6180e9;\n",
              "  color: #f1f1f1;\n",
              "}\n",
              "#T_7643f_row1_col0 {\n",
              "  background-color: #adc9fd;\n",
              "  color: #000000;\n",
              "}\n",
              "#T_7643f_row1_col2, #T_7643f_row8_col0, #T_7643f_row8_col1 {\n",
              "  background-color: #a2c1ff;\n",
              "  color: #000000;\n",
              "}\n",
              "#T_7643f_row1_col3, #T_7643f_row3_col1, #T_7643f_row7_col4, #T_7643f_row11_col10 {\n",
              "  background-color: #7699f6;\n",
              "  color: #f1f1f1;\n",
              "}\n",
              "#T_7643f_row1_col4, #T_7643f_row6_col0 {\n",
              "  background-color: #a9c6fd;\n",
              "  color: #000000;\n",
              "}\n",
              "#T_7643f_row1_col5 {\n",
              "  background-color: #4a63d3;\n",
              "  color: #f1f1f1;\n",
              "}\n",
              "#T_7643f_row1_col6 {\n",
              "  background-color: #bcd2f7;\n",
              "  color: #000000;\n",
              "}\n",
              "#T_7643f_row1_col7, #T_7643f_row8_col3, #T_7643f_row10_col4 {\n",
              "  background-color: #7597f6;\n",
              "  color: #f1f1f1;\n",
              "}\n",
              "#T_7643f_row1_col8, #T_7643f_row7_col6 {\n",
              "  background-color: #b2ccfb;\n",
              "  color: #000000;\n",
              "}\n",
              "#T_7643f_row1_col10, #T_7643f_row3_col5, #T_7643f_row7_col8 {\n",
              "  background-color: #5f7fe8;\n",
              "  color: #f1f1f1;\n",
              "}\n",
              "#T_7643f_row1_col11 {\n",
              "  background-color: #8db0fe;\n",
              "  color: #000000;\n",
              "}\n",
              "#T_7643f_row1_col12, #T_7643f_row12_col7, #T_7643f_row12_col8 {\n",
              "  background-color: #6e90f2;\n",
              "  color: #f1f1f1;\n",
              "}\n",
              "#T_7643f_row2_col0 {\n",
              "  background-color: #96b7ff;\n",
              "  color: #000000;\n",
              "}\n",
              "#T_7643f_row2_col1 {\n",
              "  background-color: #a3c2fe;\n",
              "  color: #000000;\n",
              "}\n",
              "#T_7643f_row2_col4 {\n",
              "  background-color: #a7c5fe;\n",
              "  color: #000000;\n",
              "}\n",
              "#T_7643f_row2_col5, #T_7643f_row4_col5, #T_7643f_row6_col12 {\n",
              "  background-color: #4b64d5;\n",
              "  color: #f1f1f1;\n",
              "}\n",
              "#T_7643f_row2_col6, #T_7643f_row5_col0 {\n",
              "  background-color: #b7cff9;\n",
              "  color: #000000;\n",
              "}\n",
              "#T_7643f_row2_col8, #T_7643f_row3_col6 {\n",
              "  background-color: #a5c3fe;\n",
              "  color: #000000;\n",
              "}\n",
              "#T_7643f_row2_col9, #T_7643f_row3_col9 {\n",
              "  background-color: #90b2fe;\n",
              "  color: #000000;\n",
              "}\n",
              "#T_7643f_row2_col10, #T_7643f_row4_col1 {\n",
              "  background-color: #6384eb;\n",
              "  color: #f1f1f1;\n",
              "}\n",
              "#T_7643f_row2_col12, #T_7643f_row10_col12 {\n",
              "  background-color: #4257c9;\n",
              "  color: #f1f1f1;\n",
              "}\n",
              "#T_7643f_row3_col0 {\n",
              "  background-color: #bed2f6;\n",
              "  color: #000000;\n",
              "}\n",
              "#T_7643f_row3_col4 {\n",
              "  background-color: #9fbfff;\n",
              "  color: #000000;\n",
              "}\n",
              "#T_7643f_row3_col7, #T_7643f_row12_col3, #T_7643f_row12_col10 {\n",
              "  background-color: #6c8ff1;\n",
              "  color: #f1f1f1;\n",
              "}\n",
              "#T_7643f_row3_col11, #T_7643f_row12_col9 {\n",
              "  background-color: #89acfd;\n",
              "  color: #000000;\n",
              "}\n",
              "#T_7643f_row3_col12, #T_7643f_row11_col3 {\n",
              "  background-color: #536edd;\n",
              "  color: #f1f1f1;\n",
              "}\n",
              "#T_7643f_row4_col2, #T_7643f_row11_col5 {\n",
              "  background-color: #6282ea;\n",
              "  color: #f1f1f1;\n",
              "}\n",
              "#T_7643f_row4_col3 {\n",
              "  background-color: #5875e1;\n",
              "  color: #f1f1f1;\n",
              "}\n",
              "#T_7643f_row4_col6 {\n",
              "  background-color: #8caffe;\n",
              "  color: #000000;\n",
              "}\n",
              "#T_7643f_row4_col8, #T_7643f_row7_col10, #T_7643f_row8_col10, #T_7643f_row9_col5, #T_7643f_row10_col7 {\n",
              "  background-color: #5e7de7;\n",
              "  color: #f1f1f1;\n",
              "}\n",
              "#T_7643f_row4_col11, #T_7643f_row6_col2, #T_7643f_row12_col11 {\n",
              "  background-color: #8badfd;\n",
              "  color: #000000;\n",
              "}\n",
              "#T_7643f_row5_col3, #T_7643f_row10_col1 {\n",
              "  background-color: #4f69d9;\n",
              "  color: #f1f1f1;\n",
              "}\n",
              "#T_7643f_row5_col4 {\n",
              "  background-color: #85a8fc;\n",
              "  color: #f1f1f1;\n",
              "}\n",
              "#T_7643f_row5_col7, #T_7643f_row7_col5, #T_7643f_row10_col3, #T_7643f_row11_col1 {\n",
              "  background-color: #5977e3;\n",
              "  color: #f1f1f1;\n",
              "}\n",
              "#T_7643f_row5_col8 {\n",
              "  background-color: #3e51c5;\n",
              "  color: #f1f1f1;\n",
              "}\n",
              "#T_7643f_row5_col9 {\n",
              "  background-color: #799cf8;\n",
              "  color: #f1f1f1;\n",
              "}\n",
              "#T_7643f_row5_col10, #T_7643f_row9_col1, #T_7643f_row9_col6, #T_7643f_row10_col5, #T_7643f_row12_col5 {\n",
              "  background-color: #6b8df0;\n",
              "  color: #f1f1f1;\n",
              "}\n",
              "#T_7643f_row5_col12 {\n",
              "  background-color: #4055c8;\n",
              "  color: #f1f1f1;\n",
              "}\n",
              "#T_7643f_row6_col1 {\n",
              "  background-color: #92b4fe;\n",
              "  color: #000000;\n",
              "}\n",
              "#T_7643f_row6_col3 {\n",
              "  background-color: #7396f5;\n",
              "  color: #f1f1f1;\n",
              "}\n",
              "#T_7643f_row6_col4 {\n",
              "  background-color: #9ebeff;\n",
              "  color: #000000;\n",
              "}\n",
              "#T_7643f_row6_col5, #T_7643f_row6_col10, #T_7643f_row9_col4 {\n",
              "  background-color: #5a78e4;\n",
              "  color: #f1f1f1;\n",
              "}\n",
              "#T_7643f_row6_col7, #T_7643f_row8_col2, #T_7643f_row8_col4 {\n",
              "  background-color: #93b5fe;\n",
              "  color: #000000;\n",
              "}\n",
              "#T_7643f_row7_col0, #T_7643f_row8_col9 {\n",
              "  background-color: #c1d4f4;\n",
              "  color: #000000;\n",
              "}\n",
              "#T_7643f_row7_col1, #T_7643f_row9_col3 {\n",
              "  background-color: #6687ed;\n",
              "  color: #f1f1f1;\n",
              "}\n",
              "#T_7643f_row7_col2, #T_7643f_row9_col7 {\n",
              "  background-color: #688aef;\n",
              "  color: #f1f1f1;\n",
              "}\n",
              "#T_7643f_row7_col3, #T_7643f_row8_col7, #T_7643f_row12_col2 {\n",
              "  background-color: #5b7ae5;\n",
              "  color: #f1f1f1;\n",
              "}\n",
              "#T_7643f_row7_col9 {\n",
              "  background-color: #84a7fc;\n",
              "  color: #f1f1f1;\n",
              "}\n",
              "#T_7643f_row7_col12 {\n",
              "  background-color: #4358cb;\n",
              "  color: #f1f1f1;\n",
              "}\n",
              "#T_7643f_row8_col6 {\n",
              "  background-color: #5d7ce6;\n",
              "  color: #f1f1f1;\n",
              "}\n",
              "#T_7643f_row8_col11 {\n",
              "  background-color: #c7d7f0;\n",
              "  color: #000000;\n",
              "}\n",
              "#T_7643f_row8_col12 {\n",
              "  background-color: #3f53c6;\n",
              "  color: #f1f1f1;\n",
              "}\n",
              "#T_7643f_row9_col0 {\n",
              "  background-color: #cad8ef;\n",
              "  color: #000000;\n",
              "}\n",
              "#T_7643f_row9_col2, #T_7643f_row9_col10 {\n",
              "  background-color: #6485ec;\n",
              "  color: #f1f1f1;\n",
              "}\n",
              "#T_7643f_row9_col8 {\n",
              "  background-color: #b1cbfc;\n",
              "  color: #000000;\n",
              "}\n",
              "#T_7643f_row9_col11 {\n",
              "  background-color: #b3cdfb;\n",
              "  color: #000000;\n",
              "}\n",
              "#T_7643f_row9_col12 {\n",
              "  background-color: #445acc;\n",
              "  color: #f1f1f1;\n",
              "}\n",
              "#T_7643f_row10_col0 {\n",
              "  background-color: #aec9fc;\n",
              "  color: #000000;\n",
              "}\n",
              "#T_7643f_row10_col2, #T_7643f_row11_col2 {\n",
              "  background-color: #516ddb;\n",
              "  color: #f1f1f1;\n",
              "}\n",
              "#T_7643f_row10_col11, #T_7643f_row11_col0 {\n",
              "  background-color: #9abbff;\n",
              "  color: #000000;\n",
              "}\n",
              "#T_7643f_row11_col4, #T_7643f_row12_col4 {\n",
              "  background-color: #9dbdff;\n",
              "  color: #000000;\n",
              "}\n",
              "#T_7643f_row11_col7 {\n",
              "  background-color: #5470de;\n",
              "  color: #f1f1f1;\n",
              "}\n",
              "#T_7643f_row11_col8 {\n",
              "  background-color: #afcafc;\n",
              "  color: #000000;\n",
              "}\n",
              "#T_7643f_row11_col9 {\n",
              "  background-color: #abc8fd;\n",
              "  color: #000000;\n",
              "}\n",
              "#T_7643f_row12_col0 {\n",
              "  background-color: #bad0f8;\n",
              "  color: #000000;\n",
              "}\n",
              "#T_7643f_row12_col6 {\n",
              "  background-color: #98b9ff;\n",
              "  color: #000000;\n",
              "}\n",
              "</style>\n",
              "<table id=\"T_7643f\" class=\"dataframe\">\n",
              "  <thead>\n",
              "    <tr>\n",
              "      <th class=\"blank level0\" >&nbsp;</th>\n",
              "      <th id=\"T_7643f_level0_col0\" class=\"col_heading level0 col0\" >int_rate</th>\n",
              "      <th id=\"T_7643f_level0_col1\" class=\"col_heading level0 col1\" >installment</th>\n",
              "      <th id=\"T_7643f_level0_col2\" class=\"col_heading level0 col2\" >log_annual_inc</th>\n",
              "      <th id=\"T_7643f_level0_col3\" class=\"col_heading level0 col3\" >dti</th>\n",
              "      <th id=\"T_7643f_level0_col4\" class=\"col_heading level0 col4\" >fico</th>\n",
              "      <th id=\"T_7643f_level0_col5\" class=\"col_heading level0 col5\" >days_with_cr_line</th>\n",
              "      <th id=\"T_7643f_level0_col6\" class=\"col_heading level0 col6\" >revol_bal</th>\n",
              "      <th id=\"T_7643f_level0_col7\" class=\"col_heading level0 col7\" >revol_util</th>\n",
              "      <th id=\"T_7643f_level0_col8\" class=\"col_heading level0 col8\" >inq_last_6mths</th>\n",
              "      <th id=\"T_7643f_level0_col9\" class=\"col_heading level0 col9\" >delinq_2yrs</th>\n",
              "      <th id=\"T_7643f_level0_col10\" class=\"col_heading level0 col10\" >pub_rec</th>\n",
              "      <th id=\"T_7643f_level0_col11\" class=\"col_heading level0 col11\" >not_fully_paid</th>\n",
              "      <th id=\"T_7643f_level0_col12\" class=\"col_heading level0 col12\" >purpose_int</th>\n",
              "    </tr>\n",
              "  </thead>\n",
              "  <tbody>\n",
              "    <tr>\n",
              "      <th id=\"T_7643f_level0_row0\" class=\"row_heading level0 row0\" >int_rate</th>\n",
              "      <td id=\"T_7643f_row0_col0\" class=\"data row0 col0\" >1.000000</td>\n",
              "      <td id=\"T_7643f_row0_col1\" class=\"data row0 col1\" >0.042739</td>\n",
              "      <td id=\"T_7643f_row0_col2\" class=\"data row0 col2\" >-0.055919</td>\n",
              "      <td id=\"T_7643f_row0_col3\" class=\"data row0 col3\" >0.116065</td>\n",
              "      <td id=\"T_7643f_row0_col4\" class=\"data row0 col4\" >-0.456244</td>\n",
              "      <td id=\"T_7643f_row0_col5\" class=\"data row0 col5\" >0.086726</td>\n",
              "      <td id=\"T_7643f_row0_col6\" class=\"data row0 col6\" >0.021824</td>\n",
              "      <td id=\"T_7643f_row0_col7\" class=\"data row0 col7\" >0.133468</td>\n",
              "      <td id=\"T_7643f_row0_col8\" class=\"data row0 col8\" >-0.003504</td>\n",
              "      <td id=\"T_7643f_row0_col9\" class=\"data row0 col9\" >0.172759</td>\n",
              "      <td id=\"T_7643f_row0_col10\" class=\"data row0 col10\" >0.046075</td>\n",
              "      <td id=\"T_7643f_row0_col11\" class=\"data row0 col11\" >-0.036599</td>\n",
              "      <td id=\"T_7643f_row0_col12\" class=\"data row0 col12\" >0.097478</td>\n",
              "    </tr>\n",
              "    <tr>\n",
              "      <th id=\"T_7643f_level0_row1\" class=\"row_heading level0 row1\" >installment</th>\n",
              "      <td id=\"T_7643f_row1_col0\" class=\"data row1 col0\" >0.042739</td>\n",
              "      <td id=\"T_7643f_row1_col1\" class=\"data row1 col1\" >1.000000</td>\n",
              "      <td id=\"T_7643f_row1_col2\" class=\"data row1 col2\" >0.227242</td>\n",
              "      <td id=\"T_7643f_row1_col3\" class=\"data row1 col3\" >0.084286</td>\n",
              "      <td id=\"T_7643f_row1_col4\" class=\"data row1 col4\" >0.022387</td>\n",
              "      <td id=\"T_7643f_row1_col5\" class=\"data row1 col5\" >-0.125390</td>\n",
              "      <td id=\"T_7643f_row1_col6\" class=\"data row1 col6\" >0.170643</td>\n",
              "      <td id=\"T_7643f_row1_col7\" class=\"data row1 col7\" >0.028539</td>\n",
              "      <td id=\"T_7643f_row1_col8\" class=\"data row1 col8\" >0.226005</td>\n",
              "      <td id=\"T_7643f_row1_col9\" class=\"data row1 col9\" >0.046695</td>\n",
              "      <td id=\"T_7643f_row1_col10\" class=\"data row1 col10\" >-0.049956</td>\n",
              "      <td id=\"T_7643f_row1_col11\" class=\"data row1 col11\" >-0.013016</td>\n",
              "      <td id=\"T_7643f_row1_col12\" class=\"data row1 col12\" >0.140044</td>\n",
              "    </tr>\n",
              "    <tr>\n",
              "      <th id=\"T_7643f_level0_row2\" class=\"row_heading level0 row2\" >log_annual_inc</th>\n",
              "      <td id=\"T_7643f_row2_col0\" class=\"data row2 col0\" >-0.055919</td>\n",
              "      <td id=\"T_7643f_row2_col1\" class=\"data row2 col1\" >0.227242</td>\n",
              "      <td id=\"T_7643f_row2_col2\" class=\"data row2 col2\" >1.000000</td>\n",
              "      <td id=\"T_7643f_row2_col3\" class=\"data row2 col3\" >-0.121779</td>\n",
              "      <td id=\"T_7643f_row2_col4\" class=\"data row2 col4\" >0.020853</td>\n",
              "      <td id=\"T_7643f_row2_col5\" class=\"data row2 col5\" >-0.119594</td>\n",
              "      <td id=\"T_7643f_row2_col6\" class=\"data row2 col6\" >0.151355</td>\n",
              "      <td id=\"T_7643f_row2_col7\" class=\"data row2 col7\" >0.044720</td>\n",
              "      <td id=\"T_7643f_row2_col8\" class=\"data row2 col8\" >0.177392</td>\n",
              "      <td id=\"T_7643f_row2_col9\" class=\"data row2 col9\" >0.029868</td>\n",
              "      <td id=\"T_7643f_row2_col10\" class=\"data row2 col10\" >-0.034424</td>\n",
              "      <td id=\"T_7643f_row2_col11\" class=\"data row2 col11\" >-0.037026</td>\n",
              "      <td id=\"T_7643f_row2_col12\" class=\"data row2 col12\" >-0.002927</td>\n",
              "    </tr>\n",
              "    <tr>\n",
              "      <th id=\"T_7643f_level0_row3\" class=\"row_heading level0 row3\" >dti</th>\n",
              "      <td id=\"T_7643f_row3_col0\" class=\"data row3 col0\" >0.116065</td>\n",
              "      <td id=\"T_7643f_row3_col1\" class=\"data row3 col1\" >0.084286</td>\n",
              "      <td id=\"T_7643f_row3_col2\" class=\"data row3 col2\" >-0.121779</td>\n",
              "      <td id=\"T_7643f_row3_col3\" class=\"data row3 col3\" >1.000000</td>\n",
              "      <td id=\"T_7643f_row3_col4\" class=\"data row3 col4\" >-0.013244</td>\n",
              "      <td id=\"T_7643f_row3_col5\" class=\"data row3 col5\" >-0.044598</td>\n",
              "      <td id=\"T_7643f_row3_col6\" class=\"data row3 col6\" >0.077765</td>\n",
              "      <td id=\"T_7643f_row3_col7\" class=\"data row3 col7\" >0.000342</td>\n",
              "      <td id=\"T_7643f_row3_col8\" class=\"data row3 col8\" >0.081434</td>\n",
              "      <td id=\"T_7643f_row3_col9\" class=\"data row3 col9\" >0.032497</td>\n",
              "      <td id=\"T_7643f_row3_col10\" class=\"data row3 col10\" >-0.010775</td>\n",
              "      <td id=\"T_7643f_row3_col11\" class=\"data row3 col11\" >-0.031361</td>\n",
              "      <td id=\"T_7643f_row3_col12\" class=\"data row3 col12\" >0.054696</td>\n",
              "    </tr>\n",
              "    <tr>\n",
              "      <th id=\"T_7643f_level0_row4\" class=\"row_heading level0 row4\" >fico</th>\n",
              "      <td id=\"T_7643f_row4_col0\" class=\"data row4 col0\" >-0.456244</td>\n",
              "      <td id=\"T_7643f_row4_col1\" class=\"data row4 col1\" >0.022387</td>\n",
              "      <td id=\"T_7643f_row4_col2\" class=\"data row4 col2\" >0.020853</td>\n",
              "      <td id=\"T_7643f_row4_col3\" class=\"data row4 col3\" >-0.013244</td>\n",
              "      <td id=\"T_7643f_row4_col4\" class=\"data row4 col4\" >1.000000</td>\n",
              "      <td id=\"T_7643f_row4_col5\" class=\"data row4 col5\" >-0.120728</td>\n",
              "      <td id=\"T_7643f_row4_col6\" class=\"data row4 col6\" >-0.021722</td>\n",
              "      <td id=\"T_7643f_row4_col7\" class=\"data row4 col7\" >-0.188516</td>\n",
              "      <td id=\"T_7643f_row4_col8\" class=\"data row4 col8\" >-0.065700</td>\n",
              "      <td id=\"T_7643f_row4_col9\" class=\"data row4 col9\" >-0.307689</td>\n",
              "      <td id=\"T_7643f_row4_col10\" class=\"data row4 col10\" >-0.191167</td>\n",
              "      <td id=\"T_7643f_row4_col11\" class=\"data row4 col11\" >-0.027124</td>\n",
              "      <td id=\"T_7643f_row4_col12\" class=\"data row4 col12\" >-0.024893</td>\n",
              "    </tr>\n",
              "    <tr>\n",
              "      <th id=\"T_7643f_level0_row5\" class=\"row_heading level0 row5\" >days_with_cr_line</th>\n",
              "      <td id=\"T_7643f_row5_col0\" class=\"data row5 col0\" >0.086726</td>\n",
              "      <td id=\"T_7643f_row5_col1\" class=\"data row5 col1\" >-0.125390</td>\n",
              "      <td id=\"T_7643f_row5_col2\" class=\"data row5 col2\" >-0.119594</td>\n",
              "      <td id=\"T_7643f_row5_col3\" class=\"data row5 col3\" >-0.044598</td>\n",
              "      <td id=\"T_7643f_row5_col4\" class=\"data row5 col4\" >-0.120728</td>\n",
              "      <td id=\"T_7643f_row5_col5\" class=\"data row5 col5\" >1.000000</td>\n",
              "      <td id=\"T_7643f_row5_col6\" class=\"data row5 col6\" >-0.066180</td>\n",
              "      <td id=\"T_7643f_row5_col7\" class=\"data row5 col7\" >-0.068710</td>\n",
              "      <td id=\"T_7643f_row5_col8\" class=\"data row5 col8\" >-0.187349</td>\n",
              "      <td id=\"T_7643f_row5_col9\" class=\"data row5 col9\" >-0.052515</td>\n",
              "      <td id=\"T_7643f_row5_col10\" class=\"data row5 col10\" >-0.006409</td>\n",
              "      <td id=\"T_7643f_row5_col11\" class=\"data row5 col11\" >-0.038029</td>\n",
              "      <td id=\"T_7643f_row5_col12\" class=\"data row5 col12\" >-0.006357</td>\n",
              "    </tr>\n",
              "    <tr>\n",
              "      <th id=\"T_7643f_level0_row6\" class=\"row_heading level0 row6\" >revol_bal</th>\n",
              "      <td id=\"T_7643f_row6_col0\" class=\"data row6 col0\" >0.021824</td>\n",
              "      <td id=\"T_7643f_row6_col1\" class=\"data row6 col1\" >0.170643</td>\n",
              "      <td id=\"T_7643f_row6_col2\" class=\"data row6 col2\" >0.151355</td>\n",
              "      <td id=\"T_7643f_row6_col3\" class=\"data row6 col3\" >0.077765</td>\n",
              "      <td id=\"T_7643f_row6_col4\" class=\"data row6 col4\" >-0.021722</td>\n",
              "      <td id=\"T_7643f_row6_col5\" class=\"data row6 col5\" >-0.066180</td>\n",
              "      <td id=\"T_7643f_row6_col6\" class=\"data row6 col6\" >1.000000</td>\n",
              "      <td id=\"T_7643f_row6_col7\" class=\"data row6 col7\" >0.128898</td>\n",
              "      <td id=\"T_7643f_row6_col8\" class=\"data row6 col8\" >-0.203446</td>\n",
              "      <td id=\"T_7643f_row6_col9\" class=\"data row6 col9\" >-0.146972</td>\n",
              "      <td id=\"T_7643f_row6_col10\" class=\"data row6 col10\" >-0.067585</td>\n",
              "      <td id=\"T_7643f_row6_col11\" class=\"data row6 col11\" >-0.356469</td>\n",
              "      <td id=\"T_7643f_row6_col12\" class=\"data row6 col12\" >0.029699</td>\n",
              "    </tr>\n",
              "    <tr>\n",
              "      <th id=\"T_7643f_level0_row7\" class=\"row_heading level0 row7\" >revol_util</th>\n",
              "      <td id=\"T_7643f_row7_col0\" class=\"data row7 col0\" >0.133468</td>\n",
              "      <td id=\"T_7643f_row7_col1\" class=\"data row7 col1\" >0.028539</td>\n",
              "      <td id=\"T_7643f_row7_col2\" class=\"data row7 col2\" >0.044720</td>\n",
              "      <td id=\"T_7643f_row7_col3\" class=\"data row7 col3\" >0.000342</td>\n",
              "      <td id=\"T_7643f_row7_col4\" class=\"data row7 col4\" >-0.188516</td>\n",
              "      <td id=\"T_7643f_row7_col5\" class=\"data row7 col5\" >-0.068710</td>\n",
              "      <td id=\"T_7643f_row7_col6\" class=\"data row7 col6\" >0.128898</td>\n",
              "      <td id=\"T_7643f_row7_col7\" class=\"data row7 col7\" >1.000000</td>\n",
              "      <td id=\"T_7643f_row7_col8\" class=\"data row7 col8\" >-0.061745</td>\n",
              "      <td id=\"T_7643f_row7_col9\" class=\"data row7 col9\" >-0.014098</td>\n",
              "      <td id=\"T_7643f_row7_col10\" class=\"data row7 col10\" >-0.052424</td>\n",
              "      <td id=\"T_7643f_row7_col11\" class=\"data row7 col11\" >-0.086816</td>\n",
              "      <td id=\"T_7643f_row7_col12\" class=\"data row7 col12\" >0.004182</td>\n",
              "    </tr>\n",
              "    <tr>\n",
              "      <th id=\"T_7643f_level0_row8\" class=\"row_heading level0 row8\" >inq_last_6mths</th>\n",
              "      <td id=\"T_7643f_row8_col0\" class=\"data row8 col0\" >-0.003504</td>\n",
              "      <td id=\"T_7643f_row8_col1\" class=\"data row8 col1\" >0.226005</td>\n",
              "      <td id=\"T_7643f_row8_col2\" class=\"data row8 col2\" >0.177392</td>\n",
              "      <td id=\"T_7643f_row8_col3\" class=\"data row8 col3\" >0.081434</td>\n",
              "      <td id=\"T_7643f_row8_col4\" class=\"data row8 col4\" >-0.065700</td>\n",
              "      <td id=\"T_7643f_row8_col5\" class=\"data row8 col5\" >-0.187349</td>\n",
              "      <td id=\"T_7643f_row8_col6\" class=\"data row8 col6\" >-0.203446</td>\n",
              "      <td id=\"T_7643f_row8_col7\" class=\"data row8 col7\" >-0.061745</td>\n",
              "      <td id=\"T_7643f_row8_col8\" class=\"data row8 col8\" >1.000000</td>\n",
              "      <td id=\"T_7643f_row8_col9\" class=\"data row8 col9\" >0.220876</td>\n",
              "      <td id=\"T_7643f_row8_col10\" class=\"data row8 col10\" >-0.056046</td>\n",
              "      <td id=\"T_7643f_row8_col11\" class=\"data row8 col11\" >0.219629</td>\n",
              "      <td id=\"T_7643f_row8_col12\" class=\"data row8 col12\" >-0.007000</td>\n",
              "    </tr>\n",
              "    <tr>\n",
              "      <th id=\"T_7643f_level0_row9\" class=\"row_heading level0 row9\" >delinq_2yrs</th>\n",
              "      <td id=\"T_7643f_row9_col0\" class=\"data row9 col0\" >0.172759</td>\n",
              "      <td id=\"T_7643f_row9_col1\" class=\"data row9 col1\" >0.046695</td>\n",
              "      <td id=\"T_7643f_row9_col2\" class=\"data row9 col2\" >0.029868</td>\n",
              "      <td id=\"T_7643f_row9_col3\" class=\"data row9 col3\" >0.032497</td>\n",
              "      <td id=\"T_7643f_row9_col4\" class=\"data row9 col4\" >-0.307689</td>\n",
              "      <td id=\"T_7643f_row9_col5\" class=\"data row9 col5\" >-0.052515</td>\n",
              "      <td id=\"T_7643f_row9_col6\" class=\"data row9 col6\" >-0.146972</td>\n",
              "      <td id=\"T_7643f_row9_col7\" class=\"data row9 col7\" >-0.014098</td>\n",
              "      <td id=\"T_7643f_row9_col8\" class=\"data row9 col8\" >0.220876</td>\n",
              "      <td id=\"T_7643f_row9_col9\" class=\"data row9 col9\" >1.000000</td>\n",
              "      <td id=\"T_7643f_row9_col10\" class=\"data row9 col10\" >-0.030163</td>\n",
              "      <td id=\"T_7643f_row9_col11\" class=\"data row9 col11\" >0.135084</td>\n",
              "      <td id=\"T_7643f_row9_col12\" class=\"data row9 col12\" >0.007397</td>\n",
              "    </tr>\n",
              "    <tr>\n",
              "      <th id=\"T_7643f_level0_row10\" class=\"row_heading level0 row10\" >pub_rec</th>\n",
              "      <td id=\"T_7643f_row10_col0\" class=\"data row10 col0\" >0.046075</td>\n",
              "      <td id=\"T_7643f_row10_col1\" class=\"data row10 col1\" >-0.049956</td>\n",
              "      <td id=\"T_7643f_row10_col2\" class=\"data row10 col2\" >-0.034424</td>\n",
              "      <td id=\"T_7643f_row10_col3\" class=\"data row10 col3\" >-0.010775</td>\n",
              "      <td id=\"T_7643f_row10_col4\" class=\"data row10 col4\" >-0.191167</td>\n",
              "      <td id=\"T_7643f_row10_col5\" class=\"data row10 col5\" >-0.006409</td>\n",
              "      <td id=\"T_7643f_row10_col6\" class=\"data row10 col6\" >-0.067585</td>\n",
              "      <td id=\"T_7643f_row10_col7\" class=\"data row10 col7\" >-0.052424</td>\n",
              "      <td id=\"T_7643f_row10_col8\" class=\"data row10 col8\" >-0.056046</td>\n",
              "      <td id=\"T_7643f_row10_col9\" class=\"data row10 col9\" >-0.030163</td>\n",
              "      <td id=\"T_7643f_row10_col10\" class=\"data row10 col10\" >1.000000</td>\n",
              "      <td id=\"T_7643f_row10_col11\" class=\"data row10 col11\" >0.030822</td>\n",
              "      <td id=\"T_7643f_row10_col12\" class=\"data row10 col12\" >-0.002908</td>\n",
              "    </tr>\n",
              "    <tr>\n",
              "      <th id=\"T_7643f_level0_row11\" class=\"row_heading level0 row11\" >not_fully_paid</th>\n",
              "      <td id=\"T_7643f_row11_col0\" class=\"data row11 col0\" >-0.036599</td>\n",
              "      <td id=\"T_7643f_row11_col1\" class=\"data row11 col1\" >-0.013016</td>\n",
              "      <td id=\"T_7643f_row11_col2\" class=\"data row11 col2\" >-0.037026</td>\n",
              "      <td id=\"T_7643f_row11_col3\" class=\"data row11 col3\" >-0.031361</td>\n",
              "      <td id=\"T_7643f_row11_col4\" class=\"data row11 col4\" >-0.027124</td>\n",
              "      <td id=\"T_7643f_row11_col5\" class=\"data row11 col5\" >-0.038029</td>\n",
              "      <td id=\"T_7643f_row11_col6\" class=\"data row11 col6\" >-0.356469</td>\n",
              "      <td id=\"T_7643f_row11_col7\" class=\"data row11 col7\" >-0.086816</td>\n",
              "      <td id=\"T_7643f_row11_col8\" class=\"data row11 col8\" >0.219629</td>\n",
              "      <td id=\"T_7643f_row11_col9\" class=\"data row11 col9\" >0.135084</td>\n",
              "      <td id=\"T_7643f_row11_col10\" class=\"data row11 col10\" >0.030822</td>\n",
              "      <td id=\"T_7643f_row11_col11\" class=\"data row11 col11\" >1.000000</td>\n",
              "      <td id=\"T_7643f_row11_col12\" class=\"data row11 col12\" >-0.027024</td>\n",
              "    </tr>\n",
              "    <tr>\n",
              "      <th id=\"T_7643f_level0_row12\" class=\"row_heading level0 row12\" >purpose_int</th>\n",
              "      <td id=\"T_7643f_row12_col0\" class=\"data row12 col0\" >0.097478</td>\n",
              "      <td id=\"T_7643f_row12_col1\" class=\"data row12 col1\" >0.140044</td>\n",
              "      <td id=\"T_7643f_row12_col2\" class=\"data row12 col2\" >-0.002927</td>\n",
              "      <td id=\"T_7643f_row12_col3\" class=\"data row12 col3\" >0.054696</td>\n",
              "      <td id=\"T_7643f_row12_col4\" class=\"data row12 col4\" >-0.024893</td>\n",
              "      <td id=\"T_7643f_row12_col5\" class=\"data row12 col5\" >-0.006357</td>\n",
              "      <td id=\"T_7643f_row12_col6\" class=\"data row12 col6\" >0.029699</td>\n",
              "      <td id=\"T_7643f_row12_col7\" class=\"data row12 col7\" >0.004182</td>\n",
              "      <td id=\"T_7643f_row12_col8\" class=\"data row12 col8\" >-0.007000</td>\n",
              "      <td id=\"T_7643f_row12_col9\" class=\"data row12 col9\" >0.007397</td>\n",
              "      <td id=\"T_7643f_row12_col10\" class=\"data row12 col10\" >-0.002908</td>\n",
              "      <td id=\"T_7643f_row12_col11\" class=\"data row12 col11\" >-0.027024</td>\n",
              "      <td id=\"T_7643f_row12_col12\" class=\"data row12 col12\" >1.000000</td>\n",
              "    </tr>\n",
              "  </tbody>\n",
              "</table>\n"
            ]
          },
          "metadata": {},
          "execution_count": 59
        }
      ],
      "source": [
        "#Check Corr để xem có bỏ field nào đi không ?\n",
        "pandas_df = df.toPandas()\n",
        "corr = pandas_df.corr()\n",
        "corr.style.background_gradient(cmap='coolwarm')\n"
      ]
    },
    {
      "cell_type": "code",
      "source": [
        "# Explicitly create a new SparkSession\n",
        "spark = SparkSession.builder.appName(\"F_Score_Calculation\").getOrCreate()\n",
        "\n",
        "# Assuming df_loan is a Spark DataFrame\n",
        "# Define predictors and label\n",
        "predictors = df.columns\n",
        "predictors = [col for col in predictors if col != \"not_fully_paid\"]\n",
        "# Calculate F-statistics for each feature\n",
        "f_scores = []\n",
        "for predictor in predictors:\n",
        "    # Cast the predictor column to numeric type (e.g., float) before collecting\n",
        "    groups = df.groupby(\"not_fully_paid\").agg (F.collect_list(F.col(predictor).cast(\"float\")).alias(predictor)).select(predictor).collect()\n",
        "    group_0 = groups[0][0]\n",
        "    group_1= groups[1][0]\n",
        "    # Calculate the F-statistic using scipy's f_oneway function\n",
        "    f_stat, p_value = f_oneway (group_0, group_1)\n",
        "    f_scores.append(f_stat)\n",
        "    # Convert the list of F-statistics to an array\n",
        "f_scores = np.array(f_scores)\n",
        "scores =-np.log10(f_scores)\n",
        "# Plot the scores\n",
        "plt.bar(range(len(predictors)), scores)\n",
        "plt.xticks(range(len(predictors)), predictors, rotation='vertical')\n",
        "plt.show()"
      ],
      "metadata": {
        "colab": {
          "base_uri": "https://localhost:8080/",
          "height": 609
        },
        "id": "NGrxAR-Rdae0",
        "outputId": "9b6cd6e1-0178-4c88-de89-a33657d9d553"
      },
      "execution_count": null,
      "outputs": [
        {
          "output_type": "display_data",
          "data": {
            "text/plain": [
              "<Figure size 640x480 with 1 Axes>"
            ],
            "image/png": "[encoded data removed]"
          },
          "metadata": {}
        }
      ]
    },
    {
      "cell_type": "code",
      "source": [
        "# Create a list of tuples (feature, score) and sort it by score\n",
        "feature_scores = list(zip(predictors, f_scores))\n",
        "sorted_features = sorted(feature_scores, key=lambda x: x[1], reverse=True)\n",
        "\n",
        "# Select the top k features\n",
        "k = 5\n",
        "top_features = sorted_features[:k]\n",
        "\n",
        "# Extract the names of the top k features\n",
        "top_feature_names = [feature for feature, score in top_features]\n",
        "\n",
        "# Plot the scores of the top k features\n",
        "top_scores = [-np.log10(score) for feature, score in top_features]\n",
        "plt.bar(range(k), top_scores)\n",
        "plt.xticks(range(k), top_feature_names, rotation='vertical')\n",
        "plt.show()\n",
        "\n",
        "print(\"Top k features:\", top_feature_names)\n"
      ],
      "metadata": {
        "colab": {
          "base_uri": "https://localhost:8080/",
          "height": 627
        },
        "id": "WH9VF4WyAOuH",
        "outputId": "1da6e588-446a-4377-8c13-3fef84543d2b"
      },
      "execution_count": null,
      "outputs": [
        {
          "output_type": "display_data",
          "data": {
            "text/plain": [
              "<Figure size 640x480 with 1 Axes>"
            ],
            "image/png": "[encoded data removed]"
          },
          "metadata": {}
        },
        {
          "output_type": "stream",
          "name": "stdout",
          "text": [
            "Top k features: ['revol_bal', 'inq_last_6mths', 'delinq_2yrs', 'revol_util', 'days_with_cr_line']\n"
          ]
        }
      ]
    },
    {
      "cell_type": "code",
      "source": [
        "from pyspark.ml.feature import VectorAssembler, StandardScaler\n",
        "assembler = VectorAssembler(inputCols=top_feature_names, outputCol=\"features\")\n",
        "df = assembler.transform(df)\n",
        "scaler = StandardScaler(inputCol=\"features\", outputCol=\"scaledFeatures\", withStd=True, withMean=True)\n",
        "scalerModel = scaler.fit(df)\n",
        "df = scalerModel.transform(df)"
      ],
      "metadata": {
        "id": "rxXEEH8Om2-L",
        "collapsed": true
      },
      "execution_count": null,
      "outputs": []
    },
    {
      "cell_type": "code",
      "source": [
        "train_df, test_df = df.randomSplit([0.8, 0.2], seed=42)\n",
        "X_train = train_df.select(\"scaledFeatures\")\n",
        "y_train = train_df.select(\"not_fully_paid\")\n",
        "X_test = test_df.select(\"scaledFeatures\")\n",
        "y_test = test_df.select(\"not_fully_paid\")\n"
      ],
      "metadata": {
        "id": "zpz9GHLey__i"
      },
      "execution_count": null,
      "outputs": []
    },
    {
      "cell_type": "markdown",
      "metadata": {
        "id": "uzUx_bLMQRX4"
      },
      "source": [
        "Không có 2 cột input nào quá corr ->Giữ lại toàn bộ input"
      ]
    },
    {
      "cell_type": "markdown",
      "metadata": {
        "id": "TtUJQgeId6zf"
      },
      "source": [
        "##Train model  01 -Dùng Logistic Regresion"
      ]
    },
    {
      "cell_type": "code",
      "execution_count": null,
      "metadata": {
        "colab": {
          "base_uri": "https://localhost:8080/"
        },
        "collapsed": true,
        "id": "4lVPO97ZeE6z",
        "outputId": "fba732e5-3544-4aa9-ba59-8f315fa9f597"
      },
      "outputs": [
        {
          "output_type": "stream",
          "name": "stdout",
          "text": [
            "+--------------+-----+\n",
            "|not_fully_paid|count|\n",
            "+--------------+-----+\n",
            "|           0.0| 8130|\n",
            "|           1.0|21423|\n",
            "+--------------+-----+\n",
            "\n"
          ]
        }
      ],
      "source": [
        "# Count the occurrences of each unique value in the 'not_fully_paid' column\n",
        "y_train = y_train.groupBy(\"not_fully_paid\").agg(count(\"not_fully_paid\").alias(\"count\")).show()"
      ]
    },
    {
      "cell_type": "code",
      "source": [
        "from pyspark.ml.classification import LogisticRegression\n",
        "from pyspark.ml.evaluation import MulticlassClassificationEvaluator\n",
        "from pyspark.ml.feature import VectorAssembler\n",
        "from pyspark.sql.functions import col\n",
        "lr = LogisticRegression(featuresCol='scaledFeatures', labelCol='not_fully_paid')\n",
        "model = lr.fit(train_df)\n",
        "predictions = model.transform(test_df)\n",
        "# Step 3: Evaluate the model\n",
        "evaluator = MulticlassClassificationEvaluator(labelCol=\"not_fully_paid\", predictionCol=\"prediction\", metricName=\"accuracy\") # Changed labelCol to \"not_fully_paid\"\n",
        "accuracy = evaluator.evaluate(predictions)\n",
        "print(f\"Accuracy: {accuracy:.4f}\")\n",
        "# Step 4: Generate classification metrics (precision, recall, F1-score)\n",
        "evaluator_f1 = MulticlassClassificationEvaluator(labelCol=\"not_fully_paid\", predictionCol=\"prediction\", metricName=\"f1\") # Changed labelCol to \"not_fully_paid\"\n",
        "evaluator_precision = MulticlassClassificationEvaluator(labelCol=\"not_fully_paid\", predictionCol=\"prediction\", metricName=\"weightedPrecision\") # Changed labelCol to \"not_fully_paid\"\n",
        "evaluator_recall = MulticlassClassificationEvaluator(labelCol=\"not_fully_paid\", predictionCol=\"prediction\", metricName=\"weightedRecall\") # Changed labelCol to \"not_fully_paid\"\n",
        "\n",
        "f1_score = evaluator_f1.evaluate(predictions)\n",
        "precision = evaluator_precision.evaluate(predictions)\n",
        "recall = evaluator_recall.evaluate(predictions)\n",
        "\n",
        "print(f\"F1 Score: {f1_score:.4f}\")\n",
        "print(f\"Precision: {precision:.4f}\")\n",
        "print(f\"Recall: {recall:.4f}\")\n",
        "\n",
        "# Step 5: Create a confusion matrix\n",
        "# Convert predictions and labels to RDD and compute confusion matrix\n",
        "y_true = predictions.select(col(\"not_fully_paid\")).rdd.flatMap(lambda x: x) # Changed labelCol to \"not_fully_paid\"\n",
        "y_pred = predictions.select(col(\"prediction\")).rdd.flatMap(lambda x: x)\n",
        "\n",
        "cm = y_true.zip(y_pred).map(lambda x: ((x[0], x[1]), 1)).reduceByKey(lambda x, y: x + y).collect()\n",
        "cm_matrix = np.zeros((2, 2))\n",
        "\n",
        "for (i, j), count in cm:\n",
        "    cm_matrix[int(i)][int(j)] = count\n",
        "\n",
        "# Display the confusion matrix using matplotlib\n",
        "import matplotlib.pyplot as plt\n",
        "import seaborn as sns\n",
        "\n",
        "plt.figure(figsize=(6, 6))\n",
        "sns.heatmap(cm_matrix, annot=True, fmt=\".0f\", cmap=\"Blues\", xticklabels=[0, 1], yticklabels=[0, 1]) # Changed fmt to \".0f\" to format annotations as integers\n",
        "plt.xlabel(\"Predicted Label\")\n",
        "plt.ylabel(\"True Label\")\n",
        "plt.title(\"Confusion Matrix\")\n",
        "plt.show()"
      ],
      "metadata": {
        "colab": {
          "base_uri": "https://localhost:8080/",
          "height": 678
        },
        "id": "x-Sw7aO4N4dk",
        "outputId": "cdffc2a4-a24f-4138-a480-f74c744c0851"
      },
      "execution_count": null,
      "outputs": [
        {
          "output_type": "stream",
          "name": "stdout",
          "text": [
            "Accuracy: 0.7929\n",
            "F1 Score: 0.7647\n",
            "Precision: 0.7873\n",
            "Recall: 0.7929\n"
          ]
        },
        {
          "output_type": "display_data",
          "data": {
            "text/plain": [
              "<Figure size 600x600 with 2 Axes>"
            ],
            "image/png": "[encoded data removed]"
          },
          "metadata": {}
        }
      ]
    },
    {
      "cell_type": "code",
      "execution_count": null,
      "metadata": {
        "colab": {
          "base_uri": "https://localhost:8080/"
        },
        "id": "GJ4fB_mmrIfX",
        "outputId": "385d1c96-4af5-4c34-9ccd-d7f14bac1930"
      },
      "outputs": [
        {
          "output_type": "stream",
          "name": "stdout",
          "text": [
            "AUC trên dữ liệu kiểm tra: 0.8110\n"
          ]
        }
      ],
      "source": [
        "from pyspark.ml.classification import LogisticRegression\n",
        "from pyspark.ml.evaluation import BinaryClassificationEvaluator\n",
        "from pyspark.ml.tuning import ParamGridBuilder, CrossValidator\n",
        "\n",
        "# Bước 1: Khởi tạo mô hình Hồi quy Logistic\n",
        "lr = LogisticRegression(featuresCol='scaledFeatures', labelCol='not_fully_paid')\n",
        "\n",
        "# Bước 2: Thiết lập lưới tham số cho việc tinh chỉnh hyperparameter (tùy chọn)\n",
        "paramGrid = ParamGridBuilder() \\\n",
        "    .addGrid(lr.regParam, [0.01, 0.1, 1.0]) \\\n",
        "    .addGrid(lr.elasticNetParam, [0.0, 0.5, 1.0]) \\\n",
        "    .build()\n",
        "\n",
        "# Bước 3: Thiết lập cross-validation (tùy chọn)\n",
        "crossval = CrossValidator(estimator=lr,\n",
        "                          estimatorParamMaps=paramGrid,\n",
        "                          evaluator=BinaryClassificationEvaluator(labelCol='not_fully_paid'),\n",
        "                          numFolds=5)  # Cross-validation 5 lần\n",
        "\n",
        "# Bước 4: Huấn luyện mô hình trên dữ liệu huấn luyện\n",
        "lr_model = crossval.fit(train_df)\n",
        "predictions = lr_model.transform(test_df)\n",
        "# Bước 6: Đánh giá hiệu suất của mô hình\n",
        "evaluator = BinaryClassificationEvaluator(labelCol='not_fully_paid')\n",
        "auc = evaluator.evaluate(predictions)\n",
        "\n",
        "print(f\"AUC trên dữ liệu kiểm tra: {auc:.4f}\")\n",
        "\n"
      ]
    },
    {
      "cell_type": "markdown",
      "source": [
        "#Train 2 :RamdomForest"
      ],
      "metadata": {
        "id": "D-o1iTXcBVLh"
      }
    },
    {
      "cell_type": "code",
      "source": [
        "from pyspark.ml.classification import RandomForestClassifier\n",
        "from pyspark.ml.evaluation import MulticlassClassificationEvaluator\n",
        "from pyspark.ml.feature import VectorAssembler\n",
        "from pyspark.sql.functions import col\n",
        "import numpy as np\n",
        "import matplotlib.pyplot as plt\n",
        "import seaborn as sns\n",
        "\n",
        "# Assuming `train_df` and `test_df` are Spark DataFrames\n",
        "\n",
        "# Step 1: Train the Random Forest model\n",
        "rf = RandomForestClassifier(featuresCol='scaledFeatures', labelCol='not_fully_paid', numTrees=100)  # Adjust numTrees as needed\n",
        "model = rf.fit(train_df)\n",
        "\n",
        "# Step 2: Make predictions on the test set\n",
        "predictions = model.transform(test_df)\n",
        "\n",
        "# Step 3: Evaluate the model\n",
        "evaluator = MulticlassClassificationEvaluator(labelCol=\"not_fully_paid\", predictionCol=\"prediction\", metricName=\"accuracy\")\n",
        "accuracy = evaluator.evaluate(predictions)\n",
        "\n",
        "print(f\"Accuracy: {accuracy:.4f}\")\n",
        "\n",
        "# Step 4: Generate classification metrics (precision, recall, F1-score)\n",
        "evaluator_f1 = MulticlassClassificationEvaluator(labelCol=\"not_fully_paid\", predictionCol=\"prediction\", metricName=\"f1\")\n",
        "evaluator_precision = MulticlassClassificationEvaluator(labelCol=\"not_fully_paid\", predictionCol=\"prediction\", metricName=\"weightedPrecision\")\n",
        "evaluator_recall = MulticlassClassificationEvaluator(labelCol=\"not_fully_paid\", predictionCol=\"prediction\", metricName=\"weightedRecall\")\n",
        "\n",
        "f1_score = evaluator_f1.evaluate(predictions)\n",
        "precision = evaluator_precision.evaluate(predictions)\n",
        "recall = evaluator_recall.evaluate(predictions)\n",
        "\n",
        "print(f\"F1 Score: {f1_score:.4f}\")\n",
        "print(f\"Precision: {precision:.4f}\")\n",
        "print(f\"Recall: {recall:.4f}\")\n",
        "\n",
        "# Step 5: Create a confusion matrix\n",
        "# Convert predictions and labels to RDD and compute confusion matrix\n",
        "y_true = predictions.select(col(\"not_fully_paid\")).rdd.flatMap(lambda x: x)\n",
        "y_pred = predictions.select(col(\"prediction\")).rdd.flatMap(lambda x: x)\n",
        "\n",
        "cm = y_true.zip(y_pred).map(lambda x: ((x[0], x[1]), 1)).reduceByKey(lambda x, y: x + y).collect()\n",
        "cm_matrix = np.zeros((2, 2))\n",
        "\n",
        "for (i, j), count in cm:\n",
        "    cm_matrix[int(i)][int(j)] = count\n",
        "\n",
        "# Display the confusion matrix using matplotlib\n",
        "plt.figure(figsize=(6, 6))\n",
        "sns.heatmap(cm_matrix, annot=True, fmt=\".0f\", cmap=\"Blues\", xticklabels=[0, 1], yticklabels=[0, 1])\n",
        "plt.xlabel(\"Predicted Label\")\n",
        "plt.ylabel(\"True Label\")\n",
        "plt.title(\"Confusion Matrix\")\n",
        "plt.show()\n"
      ],
      "metadata": {
        "colab": {
          "base_uri": "https://localhost:8080/",
          "height": 678
        },
        "id": "Ri8ql4DoBaQQ",
        "outputId": "fdbc58ef-8f9b-417d-897e-68387e92d322"
      },
      "execution_count": null,
      "outputs": [
        {
          "output_type": "stream",
          "name": "stdout",
          "text": [
            "Accuracy: 0.8453\n",
            "F1 Score: 0.8441\n",
            "Precision: 0.8433\n",
            "Recall: 0.8453\n"
          ]
        },
        {
          "output_type": "display_data",
          "data": {
            "text/plain": [
              "<Figure size 600x600 with 2 Axes>"
            ],
            "image/png": "[encoded data removed]"
          },
          "metadata": {}
        }
      ]
    },
    {
      "cell_type": "code",
      "source": [
        "from pyspark.ml.classification import RandomForestClassifier\n",
        "from pyspark.ml.evaluation import BinaryClassificationEvaluator\n",
        "from pyspark.ml.tuning import ParamGridBuilder, CrossValidator\n",
        "\n",
        "# Step 1: Initialize the RandomForestClassifier model\n",
        "rf = RandomForestClassifier(featuresCol='scaledFeatures', labelCol='not_fully_paid')\n",
        "\n",
        "# Step 2: Set up a smaller parameter grid for faster hyperparameter tuning\n",
        "paramGrid = ParamGridBuilder() \\\n",
        "      .addGrid(rf.numTrees, [10, 50]) \\\n",
        "      .addGrid(rf.maxDepth, [5, 10]) \\\n",
        "      .build()\n",
        "\n",
        "# Step 3: Set up cross-validation with fewer folds\n",
        "crossval = CrossValidator(estimator=rf,\n",
        "                          estimatorParamMaps=paramGrid,\n",
        "                          evaluator=BinaryClassificationEvaluator(labelCol='not_fully_paid'),\n",
        "                          numFolds=3)  # Giảm xuống 3-fold cross-validation để giảm thời gian chạy\n",
        "\n",
        "# Step 4: Train the model using cross-validation\n",
        "rf_model = crossval.fit(train_df)\n",
        "\n",
        "# Step 5: Make predictions on the test data\n",
        "pred_RandomForest = rf_model.transform(test_df)\n",
        "\n",
        "# Step 6: Evaluate model performance\n",
        "evaluator = BinaryClassificationEvaluator(labelCol='not_fully_paid')\n",
        "auc = evaluator.evaluate(pred_RandomForest)\n",
        "\n",
        "print(f\"AUC on test data: {auc:.4f}\")\n"
      ],
      "metadata": {
        "id": "aqRRxvOKLTd9",
        "colab": {
          "base_uri": "https://localhost:8080/"
        },
        "outputId": "af6361d4-f5bc-4333-b9a7-739debbd340d"
      },
      "execution_count": null,
      "outputs": [
        {
          "output_type": "stream",
          "name": "stdout",
          "text": [
            "AUC on test data: 0.8090\n"
          ]
        }
      ]
    },
    {
      "cell_type": "markdown",
      "source": [
        "#Thực nghiệm"
      ],
      "metadata": {
        "id": "9ndreXDQMO3J"
      }
    },
    {
      "cell_type": "code",
      "source": [
        "import pandas as pd\n",
        "from pyspark.sql import SparkSession\n",
        "\n",
        "# Tạo SparkSession\n",
        "spark = SparkSession.builder.appName(\"PandasToSpark\").getOrCreate()\n",
        "\n",
        "# Tạo Pandas DataFrame\n",
        "pandas_df = pd.DataFrame({\n",
        "    'revol_bal': [19748],\n",
        "    'inq_last_6mths': [3],\n",
        "    'delinq_2yrs': [2],\n",
        "    'revol_util': [0.567],\n",
        "    'days_with_cr_line': [  37865],\n",
        "\n",
        "}, index=[0])\n",
        "\n",
        "# Chuyển đổi Pandas DataFrame thành Spark DataFrame\n",
        "spark_df = spark.createDataFrame(pandas_df)\n",
        "\n",
        "# Hiển thị Spark DataFrame\n",
        "spark_df.show()\n"
      ],
      "metadata": {
        "id": "3P4S6pjtMAEf",
        "colab": {
          "base_uri": "https://localhost:8080/"
        },
        "outputId": "9a355e8e-dc96-458e-f6f3-b74df1da47a1"
      },
      "execution_count": null,
      "outputs": [
        {
          "output_type": "stream",
          "name": "stdout",
          "text": [
            "+---------+--------------+-----------+----------+-----------------+\n",
            "|revol_bal|inq_last_6mths|delinq_2yrs|revol_util|days_with_cr_line|\n",
            "+---------+--------------+-----------+----------+-----------------+\n",
            "|    19748|             3|          2|     0.567|            37865|\n",
            "+---------+--------------+-----------+----------+-----------------+\n",
            "\n"
          ]
        }
      ]
    },
    {
      "cell_type": "code",
      "source": [
        "from pyspark.ml.feature import VectorAssembler, StandardScaler\n",
        "# Bước 1: Chuẩn bị các đặc trưng\n",
        "assembler = VectorAssembler(\n",
        "    inputCols=['revol_bal', 'inq_last_6mths', 'delinq_2yrs', 'revol_util', 'days_with_cr_line'],\n",
        "    outputCol='features')\n",
        "# Tạo vector đặc trưng\n",
        "assembled_df = assembler.transform(spark_df)\n",
        "# Bước 2: Chuẩn hóa dữ liệu nếu cần (nếu mô hình đã được huấn luyện trên dữ liệu chuẩn hóa)\n",
        "scaler = StandardScaler(inputCol='features', outputCol='scaledFeatures', withStd=True, withMean=False)\n",
        "# Tính toán scaledFeatures\n",
        "scaler_model = scaler.fit(assembled_df)\n",
        "scaled_df = scaler_model.transform(assembled_df)\n"
      ],
      "metadata": {
        "id": "9J4m0UrwMCnM"
      },
      "execution_count": null,
      "outputs": []
    },
    {
      "cell_type": "markdown",
      "source": [
        "#Logistic"
      ],
      "metadata": {
        "id": "IXjU8l41bPzy"
      }
    },
    {
      "cell_type": "code",
      "source": [
        "predictions = lr_model.transform(scaled_df)\n",
        "# Lấy giá trị dự đoán từ Spark DataFrame\n",
        "result = predictions.select('prediction').collect()[0][0]\n",
        "# Kiểm tra kết quả dự đoán và in thông báo\n",
        "if result == 1:\n",
        "    print(\"Trả được khoản vay\")\n",
        "else:\n",
        "    print(\"Không trả được khoản vay\")"
      ],
      "metadata": {
        "colab": {
          "base_uri": "https://localhost:8080/"
        },
        "id": "YZREKVFrbTkw",
        "outputId": "d437ee1f-36eb-48e8-f7ff-32e66eb418b8"
      },
      "execution_count": null,
      "outputs": [
        {
          "output_type": "stream",
          "name": "stdout",
          "text": [
            "Trả được khoản vay\n"
          ]
        }
      ]
    },
    {
      "cell_type": "markdown",
      "source": [
        "#Randomforest"
      ],
      "metadata": {
        "id": "YJNSABtFbR-A"
      }
    },
    {
      "cell_type": "code",
      "source": [
        "pred_RandomForest = rf_model.transform(scaled_df)\n",
        "result = pred_RandomForest.select('prediction').collect()[0][0]\n",
        "if result == 1:\n",
        "    print(\"Trả được khoản vay\")\n",
        "else:\n",
        "    print(\"Không trả được khoản vay\")"
      ],
      "metadata": {
        "colab": {
          "base_uri": "https://localhost:8080/"
        },
        "id": "QPjF_e1Wa-LP",
        "outputId": "7bbe380a-83d9-4b69-e896-58de702904ec"
      },
      "execution_count": null,
      "outputs": [
        {
          "output_type": "stream",
          "name": "stdout",
          "text": [
            "Không trả được khoản vay\n"
          ]
        }
      ]
    }
  ],
  "metadata": {
    "accelerator": "GPU",
    "colab": {
      "gpuType": "T4",
      "provenance": []
    },
    "kernelspec": {
      "display_name": "Python 3",
      "name": "python3"
    },
    "language_info": {
      "name": "python"
    }
  },
  "nbformat": 4,
  "nbformat_minor": 0
}